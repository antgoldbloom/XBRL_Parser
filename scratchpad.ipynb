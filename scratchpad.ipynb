{
 "cells": [
  {
   "cell_type": "code",
   "execution_count": 531,
   "metadata": {},
   "outputs": [],
   "source": [
    "import pandas as pd\n",
    "pd.set_option('max_column',100)\n",
    "pd.set_option('max_row',100)"
   ]
  },
  {
   "cell_type": "code",
   "execution_count": 532,
   "metadata": {},
   "outputs": [],
   "source": [
    "\n",
    "def date_columns_from_statement(columns):\n",
    "    return [date_col for date_col in columns if re.match('[0-9]{4}-[0-9]{2}-[0-9]{2}',date_col)]\n"
   ]
  },
  {
   "cell_type": "code",
   "execution_count": 806,
   "metadata": {},
   "outputs": [],
   "source": [
    "\n",
    "import pickle\n",
    "from collections import OrderedDict \n",
    "  \n",
    "\n",
    "with open('../data/debug/statement_dict.pickle', 'rb') as f:\n",
    "    statement_dict = pickle.load(f)\n",
    "\n",
    "with open('../data/debug/needs_adjustment.pickle', 'rb') as f:\n",
    "    needs_adjustment = pickle.load(f)\n",
    "            \n",
    "with open('../data/debug/tag_map.pickle', 'rb') as f:\n",
    "    tag_map = pickle.load(f)\n",
    "\n",
    "with open('../data/debug/timeseries_df.pickle', 'rb') as f:\n",
    "    timeseries_df = pickle.load(f)\n",
    "        \n",
    "freq_list = ['instant','qtd','6mtd','9mtd','ytd']\n",
    "    \n",
    "def apply_tag_map_to_needs_adjustment_dict(needs_adjustment, tag_map):\n",
    "    tag_map_needs_adjustment_intersection = set(tag_map.keys()).intersection(needs_adjustment.keys())\n",
    "\n",
    "    for matched_xbrl_tag in tag_map_needs_adjustment_intersection:\n",
    "        for xbrl_tag in tag_map[matched_xbrl_tag]:\n",
    "            needs_adjustment[xbrl_tag].update(needs_adjustment[matched_xbrl_tag])\n",
    "            del(needs_adjustment[matched_xbrl_tag])\n",
    "            needs_adjustment[xbrl_tag] = OrderedDict(sorted(needs_adjustment[xbrl_tag].items(),reverse=True))\n",
    "    return needs_adjustment\n",
    "\n",
    "def period_type_to_months(period_type):\n",
    "    if period_type == 'ytd':\n",
    "        return 12\n",
    "    elif period_type == '9mtd':\n",
    "        return 9\n",
    "    elif period_type == '6mtd':\n",
    "        return 6\n",
    "    elif period_type == 'qtd':\n",
    "        return 3\n",
    "    else:\n",
    "        return None\n",
    "    "
   ]
  },
  {
   "cell_type": "code",
   "execution_count": 807,
   "metadata": {},
   "outputs": [],
   "source": [
    "tag_map_needs_adjustment_intersection = set(tag_map.keys()).intersection(needs_adjustment.keys())\n",
    "\n"
   ]
  },
  {
   "cell_type": "code",
   "execution_count": null,
   "metadata": {},
   "outputs": [],
   "source": []
  },
  {
   "cell_type": "code",
   "execution_count": 808,
   "metadata": {},
   "outputs": [
    {
     "data": {
      "text/plain": [
       "{'us-gaap_incomelossfromcontinuingoperationsbeforeincometaxesminorityinterestandincomelossfromequitymethodinvestments',\n",
       " 'us-gaap_salesrevenuenet'}"
      ]
     },
     "execution_count": 808,
     "metadata": {},
     "output_type": "execute_result"
    }
   ],
   "source": [
    "tag_map_needs_adjustment_intersection"
   ]
  },
  {
   "cell_type": "code",
   "execution_count": 809,
   "metadata": {},
   "outputs": [
    {
     "ename": "KeyError",
     "evalue": "'us-gaap_revenuefromcontractwithcustomerexcludingassessedtax'",
     "output_type": "error",
     "traceback": [
      "\u001b[0;31m---------------------------------------------------------------------------\u001b[0m",
      "\u001b[0;31mKeyError\u001b[0m                                  Traceback (most recent call last)",
      "\u001b[0;32m<ipython-input-809-c87bba4dbc70>\u001b[0m in \u001b[0;36m<module>\u001b[0;34m\u001b[0m\n\u001b[1;32m      1\u001b[0m \u001b[0;32mfor\u001b[0m \u001b[0mmatched_xbrl_tag\u001b[0m \u001b[0;32min\u001b[0m \u001b[0mtag_map_needs_adjustment_intersection\u001b[0m\u001b[0;34m:\u001b[0m\u001b[0;34m\u001b[0m\u001b[0;34m\u001b[0m\u001b[0m\n\u001b[1;32m      2\u001b[0m     \u001b[0;32mfor\u001b[0m \u001b[0mxbrl_tag\u001b[0m \u001b[0;32min\u001b[0m \u001b[0mtag_map\u001b[0m\u001b[0;34m[\u001b[0m\u001b[0mmatched_xbrl_tag\u001b[0m\u001b[0;34m]\u001b[0m\u001b[0;34m:\u001b[0m\u001b[0;34m\u001b[0m\u001b[0;34m\u001b[0m\u001b[0m\n\u001b[0;32m----> 3\u001b[0;31m         \u001b[0mneeds_adjustment\u001b[0m\u001b[0;34m[\u001b[0m\u001b[0mxbrl_tag\u001b[0m\u001b[0;34m]\u001b[0m\u001b[0;34m.\u001b[0m\u001b[0mupdate\u001b[0m\u001b[0;34m(\u001b[0m\u001b[0mneeds_adjustment\u001b[0m\u001b[0;34m[\u001b[0m\u001b[0mmatched_xbrl_tag\u001b[0m\u001b[0;34m]\u001b[0m\u001b[0;34m)\u001b[0m\u001b[0;34m\u001b[0m\u001b[0;34m\u001b[0m\u001b[0m\n\u001b[0m\u001b[1;32m      4\u001b[0m         \u001b[0;32mdel\u001b[0m\u001b[0;34m(\u001b[0m\u001b[0mneeds_adjustment\u001b[0m\u001b[0;34m[\u001b[0m\u001b[0mmatched_xbrl_tag\u001b[0m\u001b[0;34m]\u001b[0m\u001b[0;34m)\u001b[0m\u001b[0;34m\u001b[0m\u001b[0;34m\u001b[0m\u001b[0m\n\u001b[1;32m      5\u001b[0m         \u001b[0mneeds_adjustment\u001b[0m\u001b[0;34m[\u001b[0m\u001b[0mxbrl_tag\u001b[0m\u001b[0;34m]\u001b[0m \u001b[0;34m=\u001b[0m \u001b[0mOrderedDict\u001b[0m\u001b[0;34m(\u001b[0m\u001b[0msorted\u001b[0m\u001b[0;34m(\u001b[0m\u001b[0mneeds_adjustment\u001b[0m\u001b[0;34m[\u001b[0m\u001b[0mxbrl_tag\u001b[0m\u001b[0;34m]\u001b[0m\u001b[0;34m.\u001b[0m\u001b[0mitems\u001b[0m\u001b[0;34m(\u001b[0m\u001b[0;34m)\u001b[0m\u001b[0;34m,\u001b[0m\u001b[0mreverse\u001b[0m\u001b[0;34m=\u001b[0m\u001b[0;32mTrue\u001b[0m\u001b[0;34m)\u001b[0m\u001b[0;34m)\u001b[0m\u001b[0;34m\u001b[0m\u001b[0;34m\u001b[0m\u001b[0m\n",
      "\u001b[0;31mKeyError\u001b[0m: 'us-gaap_revenuefromcontractwithcustomerexcludingassessedtax'"
     ]
    }
   ],
   "source": [
    "for matched_xbrl_tag in tag_map_needs_adjustment_intersection:\n",
    "    for xbrl_tag in tag_map[matched_xbrl_tag]:\n",
    "        needs_adjustment[xbrl_tag].update(needs_adjustment[matched_xbrl_tag])\n",
    "        del(needs_adjustment[matched_xbrl_tag])\n",
    "        needs_adjustment[xbrl_tag] = OrderedDict(sorted(needs_adjustment[xbrl_tag].items(),reverse=True))\n",
    "return needs_adjustment\n"
   ]
  },
  {
   "cell_type": "code",
   "execution_count": null,
   "metadata": {},
   "outputs": [],
   "source": [
    "needs_adjustment = apply_tag_map_to_needs_adjustment_dict(needs_adjustment, tag_map)\n",
    "\n",
    "    \n",
    "\n",
    "for xbrl_tag in needs_adjustment:\n",
    "    for date_col in needs_adjustment[xbrl_tag]:\n",
    "\n",
    "\n",
    "        months_in_metric = period_type_to_months(needs_adjustment[xbrl_tag][date_col])\n",
    "        month_index = timeseries_df.columns.get_loc(date_col)\n",
    "        tag_index = timeseries_df.index.get_loc(xbrl_tag)\n",
    "\n",
    "        i = 1\n",
    "        while (months_in_metric > 3):\n",
    "\n",
    "\n",
    "            if timeseries_df.columns[month_index+i] in needs_adjustment[xbrl_tag]:\n",
    "                months_in_metric = months_in_metric - period_type_to_months(needs_adjustment[xbrl_tag][timeseries_df.columns[month_index+i]])\n",
    "            else:\n",
    "                months_in_metric = months_in_metric - 3\n",
    "\n",
    "            if months_in_metric >= 3:\n",
    "                timeseries_df.iloc[tag_index,month_index] = timeseries_df.iloc[tag_index,month_index] - timeseries_df.iloc[tag_index,month_index+i]\n",
    "\n",
    "\n",
    "            else:\n",
    "                print(\"ERROR: \")\n",
    "\n",
    "\n",
    "            i += 1\n",
    "            #break\n",
    "        \n",
    "\n",
    "#timeseries_df.loc[xbrl_tag,:]"
   ]
  },
  {
   "cell_type": "code",
   "execution_count": 796,
   "metadata": {},
   "outputs": [
    {
     "data": {
      "text/plain": [
       "2020-06-27    2.752000e+09\n",
       "2020-03-28    2.786000e+09\n",
       "2019-12-28    2.816000e+09\n",
       "2019-09-28    3.179000e+09\n",
       "2019-06-29    2.933000e+09\n",
       "2019-03-30    3.040000e+09\n",
       "2018-12-29    3.395000e+09\n",
       "2018-09-29    2.754000e+09\n",
       "2018-06-30    2.665000e+09\n",
       "2018-03-31    2.739000e+09\n",
       "2017-12-30    2.745000e+09\n",
       "2017-09-30    2.484000e+09\n",
       "2017-07-01    2.354000e+09\n",
       "2017-04-01    2.332000e+09\n",
       "2016-12-31    2.987000e+09\n",
       "2016-09-24    2.548000e+09\n",
       "2016-06-25    2.526000e+09\n",
       "2016-03-26    2.477000e+09\n",
       "2015-12-26    2.954000e+09\n",
       "2015-09-26    3.119000e+09\n",
       "2015-06-27    3.084000e+09\n",
       "2015-03-28    2.479000e+09\n",
       "2014-12-27    2.575000e+09\n",
       "2014-09-27    1.969000e+09\n",
       "2014-06-28    1.946000e+09\n",
       "2014-03-29    1.887000e+09\n",
       "2013-12-28    2.144000e+09\n",
       "2013-09-28    1.783000e+09\n",
       "2013-06-29    1.694000e+09\n",
       "2013-03-30    1.692000e+09\n",
       "2012-12-29    1.588000e+09\n",
       "2012-09-29    9.810000e+08\n",
       "2012-06-30    8.350000e+08\n",
       "2012-03-31    7.400000e+08\n",
       "2011-12-31    7.210000e+08\n",
       "2011-09-24    5.430000e+08\n",
       "2011-06-25    4.810000e+08\n",
       "2011-03-26    4.340000e+08\n",
       "2010-12-25    3.560000e+08\n",
       "2010-09-25    3.290000e+08\n",
       "2010-06-26    2.730000e+08\n",
       "2010-03-27    2.160000e+08\n",
       "2009-12-26    2.090000e+08\n",
       "2009-09-26    1.970000e+08\n",
       "2009-06-27   -1.100000e+07\n",
       "2009-03-28    3.490000e+08\n",
       "2008-12-27    1.680000e+08\n",
       "2008-09-27             NaN\n",
       "2008-06-28    3.390000e+08\n",
       "2007-09-29             NaN\n",
       "2006-09-30             NaN\n",
       "Name: us-gaap_depreciationdepletionandamortization, dtype: float64"
      ]
     },
     "execution_count": 796,
     "metadata": {},
     "output_type": "execute_result"
    }
   ],
   "source": [
    "xbrl_tag = 'us-gaap_depreciationdepletionandamortization'\n",
    "timeseries_df.loc[xbrl_tag,:]"
   ]
  },
  {
   "cell_type": "code",
   "execution_count": null,
   "metadata": {},
   "outputs": [],
   "source": []
  }
 ],
 "metadata": {
  "kernelspec": {
   "display_name": "Python 3",
   "language": "python",
   "name": "python3"
  },
  "language_info": {
   "codemirror_mode": {
    "name": "ipython",
    "version": 3
   },
   "file_extension": ".py",
   "mimetype": "text/x-python",
   "name": "python",
   "nbconvert_exporter": "python",
   "pygments_lexer": "ipython3",
   "version": "3.7.6"
  }
 },
 "nbformat": 4,
 "nbformat_minor": 4
}
