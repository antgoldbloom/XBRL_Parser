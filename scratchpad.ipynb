{
 "cells": [
  {
   "cell_type": "code",
   "execution_count": 14,
   "metadata": {},
   "outputs": [],
   "source": [
    "import pandas as pd\n",
    "from google.cloud import storage\n",
    "import os\n",
    "\n",
    "pd.set_option('max_column',100)\n",
    "pd.set_option('max_row',100)"
   ]
  },
  {
   "cell_type": "code",
   "execution_count": null,
   "metadata": {},
   "outputs": [],
   "source": []
  },
  {
   "cell_type": "code",
   "execution_count": 27,
   "metadata": {},
   "outputs": [],
   "source": [
    "def upload_blob(bucket_name, data_path,ticker):\n",
    "    \"\"\"Uploads a file to the bucket.\"\"\"\n",
    "    # bucket_name = \"your-bucket-name\"\n",
    "    # source_file_name = \"local/path/to/file\"\n",
    "    # destination_blob_name = \"storage-object-name\"\n",
    "    storage_client = storage.Client()\n",
    "    bucket = storage_client.bucket(bucket_name)\n",
    "    \n",
    "    files_uploaded = []\n",
    "    \n",
    "    for dirname, _, filenames in os.walk(f\"{data_path}{ticker}/\"):\n",
    "        for filename in filenames:\n",
    "\n",
    "            source_file_name = f'{dirname}/{filename}'\n",
    "            destination_blob_name = f'{dirname[61:]}/{filename}'\n",
    "        \n",
    "    \n",
    "            blob = bucket.blob(destination_blob_name)\n",
    "\n",
    "            blob.upload_from_filename(source_file_name)\n",
    "\n",
    "            files_uploaded.append(filename)\n",
    "            \n",
    "            \n",
    "    print(f\"Files uploaded: {', '.join(files_uploaded)}\")"
   ]
  },
  {
   "cell_type": "code",
   "execution_count": 61,
   "metadata": {},
   "outputs": [],
   "source": [
    "def already_uploaded(bucket_name, data_path,ticker):\n",
    "\n",
    "    storage_client = storage.Client()\n",
    "    bucket = storage_client.bucket(bucket_name)\n",
    "\n",
    "    key_files = ['Income Statement.csv','Balance Sheet.csv','Cash Flow.csv']\n",
    "    key_folder = f'{ticker}/Clean Statements/'\n",
    "\n",
    "    key_files_exist = True\n",
    "    for file in key_files:    \n",
    "        stats = storage.Blob(bucket=bucket, name=f'{key_folder}{file}').exists(storage_client)\n",
    "\n",
    "        if stats == False:\n",
    "\n",
    "            key_files_exist = False\n",
    "            break\n",
    "\n",
    "    return key_files_exist\n"
   ]
  },
  {
   "cell_type": "code",
   "execution_count": 62,
   "metadata": {},
   "outputs": [
    {
     "data": {
      "text/plain": [
       "True"
      ]
     },
     "execution_count": 62,
     "metadata": {},
     "output_type": "execute_result"
    }
   ],
   "source": [
    "data_path = '/Users/goldbloom/Dropbox/Side Projects/Edgar/data/timeseries/'\n",
    "ticker = 'AAPL'\n",
    "bucket_name = 'kaggle_sec_data'\n",
    "\n",
    "#upload_blob(bucket_name,data_path,ticker)"
   ]
  },
  {
   "cell_type": "code",
   "execution_count": 49,
   "metadata": {},
   "outputs": [
    {
     "name": "stdout",
     "output_type": "stream",
     "text": [
      "True\n"
     ]
    }
   ],
   "source": [
    "storage_client = storage.Client()\n",
    "bucket = storage_client.bucket(bucket_name)\n",
    "blob = bucket.get_blob(ticker)\n",
    "\n",
    "#for blob in storage_client.list_blobs(bucket_name):\n",
    "#    print(blob.name)\n",
    "    \n",
    "file_to_check = f'{ticker}/Canonical Statement/Income Statement.csv'\n",
    "    \n",
    "storage_client = storage.Client()\n",
    "bucket = storage_client.bucket(bucket_name)\n",
    "stats = storage.Blob(bucket=bucket, name=file_to_check).exists(storage_client)\n",
    "print(stats)"
   ]
  },
  {
   "cell_type": "code",
   "execution_count": 47,
   "metadata": {},
   "outputs": [
    {
     "name": "stdout",
     "output_type": "stream",
     "text": [
      "AAPL/Canonical Statements/Income Statement.csv\n"
     ]
    }
   ],
   "source": []
  },
  {
   "cell_type": "code",
   "execution_count": 10,
   "metadata": {},
   "outputs": [],
   "source": [
    "data_path = '/Users/goldbloom/Dropbox/Side Projects/Edgar/data/timeseries/'"
   ]
  },
  {
   "cell_type": "code",
   "execution_count": 12,
   "metadata": {},
   "outputs": [
    {
     "data": {
      "text/plain": [
       "61"
      ]
     },
     "execution_count": 12,
     "metadata": {},
     "output_type": "execute_result"
    }
   ],
   "source": [
    "len(data_path)"
   ]
  },
  {
   "cell_type": "code",
   "execution_count": null,
   "metadata": {},
   "outputs": [],
   "source": []
  }
 ],
 "metadata": {
  "kernelspec": {
   "display_name": "Python 3",
   "language": "python",
   "name": "python3"
  },
  "language_info": {
   "codemirror_mode": {
    "name": "ipython",
    "version": 3
   },
   "file_extension": ".py",
   "mimetype": "text/x-python",
   "name": "python",
   "nbconvert_exporter": "python",
   "pygments_lexer": "ipython3",
   "version": "3.7.6"
  }
 },
 "nbformat": 4,
 "nbformat_minor": 4
}
