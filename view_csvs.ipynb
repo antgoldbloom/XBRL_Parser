{
 "cells": [
  {
   "cell_type": "code",
   "execution_count": 62,
   "metadata": {},
   "outputs": [],
   "source": [
    "import pandas as pd\n",
    "import os\n",
    "from datetime import datetime\n",
    "import numpy as np\n",
    "\n",
    "pd.set_option('max_columns',60)"
   ]
  },
  {
   "cell_type": "code",
   "execution_count": 63,
   "metadata": {},
   "outputs": [
    {
     "ename": "IndexError",
     "evalue": "list index out of range",
     "output_type": "error",
     "traceback": [
      "\u001b[0;31m---------------------------------------------------------------------------\u001b[0m",
      "\u001b[0;31mIndexError\u001b[0m                                Traceback (most recent call last)",
      "\u001b[0;32m<ipython-input-63-4c38cf285abf>\u001b[0m in \u001b[0;36m<module>\u001b[0;34m\u001b[0m\n\u001b[1;32m      6\u001b[0m \u001b[0;34m\u001b[0m\u001b[0m\n\u001b[1;32m      7\u001b[0m \u001b[0mlist_num\u001b[0m \u001b[0;34m=\u001b[0m \u001b[0;36m4\u001b[0m\u001b[0;34m\u001b[0m\u001b[0;34m\u001b[0m\u001b[0m\n\u001b[0;32m----> 8\u001b[0;31m \u001b[0mprint\u001b[0m\u001b[0;34m(\u001b[0m\u001b[0mfile_list\u001b[0m\u001b[0;34m[\u001b[0m\u001b[0mlist_num\u001b[0m\u001b[0;34m]\u001b[0m\u001b[0;34m)\u001b[0m\u001b[0;34m\u001b[0m\u001b[0;34m\u001b[0m\u001b[0m\n\u001b[0m\u001b[1;32m      9\u001b[0m \u001b[0mdf\u001b[0m \u001b[0;34m=\u001b[0m \u001b[0mpd\u001b[0m\u001b[0;34m.\u001b[0m\u001b[0mread_csv\u001b[0m\u001b[0;34m(\u001b[0m\u001b[0mfile_list\u001b[0m\u001b[0;34m[\u001b[0m\u001b[0mlist_num\u001b[0m\u001b[0;34m]\u001b[0m\u001b[0;34m,\u001b[0m\u001b[0mindex_col\u001b[0m\u001b[0;34m=\u001b[0m\u001b[0;34m[\u001b[0m\u001b[0;36m0\u001b[0m\u001b[0;34m,\u001b[0m\u001b[0;36m1\u001b[0m\u001b[0;34m]\u001b[0m\u001b[0;34m)\u001b[0m\u001b[0;34m\u001b[0m\u001b[0;34m\u001b[0m\u001b[0m\n\u001b[1;32m     10\u001b[0m \u001b[0mdf\u001b[0m\u001b[0;34m\u001b[0m\u001b[0;34m\u001b[0m\u001b[0m\n",
      "\u001b[0;31mIndexError\u001b[0m: list index out of range"
     ]
    }
   ],
   "source": [
    "AMZN_statement_folder = \"../data/timeseries/AMZN/Statement\"\n",
    "file_list = []\n",
    "for dirname, _, filenames in os.walk(f\"{AMZN_statement_folder}\"):\n",
    "    for filename in filenames:\n",
    "        file_list.append(os.path.join(dirname,filename))\n",
    "\n",
    "list_num = 4\n",
    "print(file_list[list_num])\n",
    "df = pd.read_csv(file_list[list_num],index_col=[0,1])\n",
    "df"
   ]
  },
  {
   "cell_type": "code",
   "execution_count": 104,
   "metadata": {},
   "outputs": [],
   "source": [
    "df = pd.read_csv('../data/timeseries/ZG/Statement/Condensed Consolidated Statements of Operations.csv',index_col=[0,1])"
   ]
  },
  {
   "cell_type": "code",
   "execution_count": 132,
   "metadata": {},
   "outputs": [
    {
     "data": {
      "text/html": [
       "<div>\n",
       "<style scoped>\n",
       "    .dataframe tbody tr th:only-of-type {\n",
       "        vertical-align: middle;\n",
       "    }\n",
       "\n",
       "    .dataframe tbody tr th {\n",
       "        vertical-align: top;\n",
       "    }\n",
       "\n",
       "    .dataframe thead th {\n",
       "        text-align: right;\n",
       "    }\n",
       "</style>\n",
       "<table border=\"1\" class=\"dataframe\">\n",
       "  <thead>\n",
       "    <tr style=\"text-align: right;\">\n",
       "      <th></th>\n",
       "      <th></th>\n",
       "      <th>2020-03-31</th>\n",
       "      <th>2019-03-31</th>\n",
       "      <th>2017-12-31</th>\n",
       "      <th>2018-12-31</th>\n",
       "      <th>2019-12-31</th>\n",
       "      <th>2018-09-30</th>\n",
       "      <th>2019-09-30</th>\n",
       "      <th>2018-06-30</th>\n",
       "      <th>2019-06-30</th>\n",
       "      <th>2018-03-31</th>\n",
       "      <th>2016-12-31</th>\n",
       "      <th>2017-09-30</th>\n",
       "      <th>2017-06-30</th>\n",
       "    </tr>\n",
       "    <tr>\n",
       "      <th>label</th>\n",
       "      <th>xbrl_tag</th>\n",
       "      <th></th>\n",
       "      <th></th>\n",
       "      <th></th>\n",
       "      <th></th>\n",
       "      <th></th>\n",
       "      <th></th>\n",
       "      <th></th>\n",
       "      <th></th>\n",
       "      <th></th>\n",
       "      <th></th>\n",
       "      <th></th>\n",
       "      <th></th>\n",
       "      <th></th>\n",
       "    </tr>\n",
       "  </thead>\n",
       "  <tbody>\n",
       "    <tr>\n",
       "      <th>Revenue from Contract with Customer, Excluding Assessed Tax</th>\n",
       "      <th>us-gaap_revenuefromcontractwithcustomerexcludingassessedtax</th>\n",
       "      <td>1.125821e+09</td>\n",
       "      <td>454104000.0</td>\n",
       "      <td>1.076794e+09</td>\n",
       "      <td>1.333554e+09</td>\n",
       "      <td>2.742837e+09</td>\n",
       "      <td>343094000.0</td>\n",
       "      <td>745208000.0</td>\n",
       "      <td>325246000.0</td>\n",
       "      <td>599578000.0</td>\n",
       "      <td>NaN</td>\n",
       "      <td>846589000.0</td>\n",
       "      <td>281839000.0</td>\n",
       "      <td>266850000.0</td>\n",
       "    </tr>\n",
       "  </tbody>\n",
       "</table>\n",
       "</div>"
      ],
      "text/plain": [
       "                                                                                                         2020-03-31  \\\n",
       "label                                              xbrl_tag                                                           \n",
       "Revenue from Contract with Customer, Excluding ... us-gaap_revenuefromcontractwithcustomerexcludin...  1.125821e+09   \n",
       "\n",
       "                                                                                                        2019-03-31  \\\n",
       "label                                              xbrl_tag                                                          \n",
       "Revenue from Contract with Customer, Excluding ... us-gaap_revenuefromcontractwithcustomerexcludin...  454104000.0   \n",
       "\n",
       "                                                                                                         2017-12-31  \\\n",
       "label                                              xbrl_tag                                                           \n",
       "Revenue from Contract with Customer, Excluding ... us-gaap_revenuefromcontractwithcustomerexcludin...  1.076794e+09   \n",
       "\n",
       "                                                                                                         2018-12-31  \\\n",
       "label                                              xbrl_tag                                                           \n",
       "Revenue from Contract with Customer, Excluding ... us-gaap_revenuefromcontractwithcustomerexcludin...  1.333554e+09   \n",
       "\n",
       "                                                                                                         2019-12-31  \\\n",
       "label                                              xbrl_tag                                                           \n",
       "Revenue from Contract with Customer, Excluding ... us-gaap_revenuefromcontractwithcustomerexcludin...  2.742837e+09   \n",
       "\n",
       "                                                                                                        2018-09-30  \\\n",
       "label                                              xbrl_tag                                                          \n",
       "Revenue from Contract with Customer, Excluding ... us-gaap_revenuefromcontractwithcustomerexcludin...  343094000.0   \n",
       "\n",
       "                                                                                                        2019-09-30  \\\n",
       "label                                              xbrl_tag                                                          \n",
       "Revenue from Contract with Customer, Excluding ... us-gaap_revenuefromcontractwithcustomerexcludin...  745208000.0   \n",
       "\n",
       "                                                                                                        2018-06-30  \\\n",
       "label                                              xbrl_tag                                                          \n",
       "Revenue from Contract with Customer, Excluding ... us-gaap_revenuefromcontractwithcustomerexcludin...  325246000.0   \n",
       "\n",
       "                                                                                                        2019-06-30  \\\n",
       "label                                              xbrl_tag                                                          \n",
       "Revenue from Contract with Customer, Excluding ... us-gaap_revenuefromcontractwithcustomerexcludin...  599578000.0   \n",
       "\n",
       "                                                                                                       2018-03-31  \\\n",
       "label                                              xbrl_tag                                                         \n",
       "Revenue from Contract with Customer, Excluding ... us-gaap_revenuefromcontractwithcustomerexcludin...         NaN   \n",
       "\n",
       "                                                                                                        2016-12-31  \\\n",
       "label                                              xbrl_tag                                                          \n",
       "Revenue from Contract with Customer, Excluding ... us-gaap_revenuefromcontractwithcustomerexcludin...  846589000.0   \n",
       "\n",
       "                                                                                                        2017-09-30  \\\n",
       "label                                              xbrl_tag                                                          \n",
       "Revenue from Contract with Customer, Excluding ... us-gaap_revenuefromcontractwithcustomerexcludin...  281839000.0   \n",
       "\n",
       "                                                                                                        2017-06-30  \n",
       "label                                              xbrl_tag                                                         \n",
       "Revenue from Contract with Customer, Excluding ... us-gaap_revenuefromcontractwithcustomerexcludin...  266850000.0  "
      ]
     },
     "execution_count": 132,
     "metadata": {},
     "output_type": "execute_result"
    }
   ],
   "source": [
    "df[df.index.get_level_values(1).isin(['us-gaap_revenuefromcontractwithcustomerexcludingassessedtax'])]\n"
   ]
  },
  {
   "cell_type": "code",
   "execution_count": 84,
   "metadata": {},
   "outputs": [
    {
     "data": {
      "text/plain": [
       "75"
      ]
     },
     "execution_count": 84,
     "metadata": {},
     "output_type": "execute_result"
    }
   ],
   "source": [
    "csv_file =\"../data/csv/UBER/2019-12-31 (10-K)/1005000 - Statement - CONSOLIDATED STATEMENTS OF CASH FLOWS.csv\"\n",
    "\n",
    "\n",
    "#csv_file =\"../data/csv/UBER/2020-03-31 (10-Q)/1005000 - Statement - CONDENSED CONSOLIDATED STATEMENTS OF CASH FLOWS.csv\"\n",
    "df = pd.read_csv(csv_file,index_col=[0])\n",
    "len(df)\n",
    "#df.index.isin(['us-gaap_proceedsfromequitymethodinvestmentdividendsordistributionsreturnofcapital', 'us-gaap_disposalgroupnotdiscontinuedoperationgainlossondisposal'])"
   ]
  },
  {
   "cell_type": "code",
   "execution_count": 86,
   "metadata": {},
   "outputs": [
    {
     "data": {
      "text/plain": [
       "75"
      ]
     },
     "execution_count": 86,
     "metadata": {},
     "output_type": "execute_result"
    }
   ],
   "source": [
    "len(np.unique(df.index))"
   ]
  },
  {
   "cell_type": "code",
   "execution_count": 89,
   "metadata": {},
   "outputs": [
    {
     "data": {
      "text/html": [
       "<div>\n",
       "<style scoped>\n",
       "    .dataframe tbody tr th:only-of-type {\n",
       "        vertical-align: middle;\n",
       "    }\n",
       "\n",
       "    .dataframe tbody tr th {\n",
       "        vertical-align: top;\n",
       "    }\n",
       "\n",
       "    .dataframe thead th {\n",
       "        text-align: right;\n",
       "    }\n",
       "</style>\n",
       "<table border=\"1\" class=\"dataframe\">\n",
       "  <thead>\n",
       "    <tr style=\"text-align: right;\">\n",
       "      <th></th>\n",
       "      <th>terseLabel</th>\n",
       "      <th>period_type</th>\n",
       "      <th>label</th>\n",
       "      <th>2019-12-31</th>\n",
       "      <th>2018-12-31</th>\n",
       "      <th>2017-12-31</th>\n",
       "      <th>2016-12-31</th>\n",
       "    </tr>\n",
       "    <tr>\n",
       "      <th>consolidatedstatementsofcashflows</th>\n",
       "      <th></th>\n",
       "      <th></th>\n",
       "      <th></th>\n",
       "      <th></th>\n",
       "      <th></th>\n",
       "      <th></th>\n",
       "      <th></th>\n",
       "    </tr>\n",
       "  </thead>\n",
       "  <tbody>\n",
       "    <tr>\n",
       "      <th>us-gaap_gainlossoninvestments</th>\n",
       "      <td>NaN</td>\n",
       "      <td>ytd</td>\n",
       "      <td>NaN</td>\n",
       "      <td>2000000.0</td>\n",
       "      <td>2.000000e+09</td>\n",
       "      <td>0.0</td>\n",
       "      <td>NaN</td>\n",
       "    </tr>\n",
       "    <tr>\n",
       "      <th>uber_proceedsfrominsurancereimbursementsaleanddisposalofpropertyandequipment</th>\n",
       "      <td>Proceeds from insurance reimbursement, sale an...</td>\n",
       "      <td>ytd</td>\n",
       "      <td>Proceeds From Insurance Reimbursement, Sale An...</td>\n",
       "      <td>51000000.0</td>\n",
       "      <td>3.690000e+08</td>\n",
       "      <td>342000000.0</td>\n",
       "      <td>NaN</td>\n",
       "    </tr>\n",
       "    <tr>\n",
       "      <th>uber_paymentstoacquiredebtsecuritiesnotreadilymarketable</th>\n",
       "      <td>NaN</td>\n",
       "      <td>ytd</td>\n",
       "      <td>Payments To Acquire Debt Securities, Not Readi...</td>\n",
       "      <td>0.0</td>\n",
       "      <td>3.000000e+07</td>\n",
       "      <td>0.0</td>\n",
       "      <td>NaN</td>\n",
       "    </tr>\n",
       "    <tr>\n",
       "      <th>uber_deferredunpaidofferingcosts</th>\n",
       "      <td>Deferred unpaid offering costs</td>\n",
       "      <td>ytd</td>\n",
       "      <td>Deferred Unpaid Offering Costs</td>\n",
       "      <td>0.0</td>\n",
       "      <td>4.000000e+06</td>\n",
       "      <td>0.0</td>\n",
       "      <td>NaN</td>\n",
       "    </tr>\n",
       "    <tr>\n",
       "      <th>uber_litigationsettlementthroughstockissuance</th>\n",
       "      <td>Settlement of litigation through issuance of r...</td>\n",
       "      <td>ytd</td>\n",
       "      <td>Litigation Settlement Through Stock Issuance</td>\n",
       "      <td>0.0</td>\n",
       "      <td>2.500000e+08</td>\n",
       "      <td>0.0</td>\n",
       "      <td>NaN</td>\n",
       "    </tr>\n",
       "  </tbody>\n",
       "</table>\n",
       "</div>"
      ],
      "text/plain": [
       "                                                                                           terseLabel  \\\n",
       "consolidatedstatementsofcashflows                                                                       \n",
       "us-gaap_gainlossoninvestments                                                                     NaN   \n",
       "uber_proceedsfrominsurancereimbursementsaleandd...  Proceeds from insurance reimbursement, sale an...   \n",
       "uber_paymentstoacquiredebtsecuritiesnotreadilym...                                                NaN   \n",
       "uber_deferredunpaidofferingcosts                                       Deferred unpaid offering costs   \n",
       "uber_litigationsettlementthroughstockissuance       Settlement of litigation through issuance of r...   \n",
       "\n",
       "                                                   period_type  \\\n",
       "consolidatedstatementsofcashflows                                \n",
       "us-gaap_gainlossoninvestments                              ytd   \n",
       "uber_proceedsfrominsurancereimbursementsaleandd...         ytd   \n",
       "uber_paymentstoacquiredebtsecuritiesnotreadilym...         ytd   \n",
       "uber_deferredunpaidofferingcosts                           ytd   \n",
       "uber_litigationsettlementthroughstockissuance              ytd   \n",
       "\n",
       "                                                                                                label  \\\n",
       "consolidatedstatementsofcashflows                                                                       \n",
       "us-gaap_gainlossoninvestments                                                                     NaN   \n",
       "uber_proceedsfrominsurancereimbursementsaleandd...  Proceeds From Insurance Reimbursement, Sale An...   \n",
       "uber_paymentstoacquiredebtsecuritiesnotreadilym...  Payments To Acquire Debt Securities, Not Readi...   \n",
       "uber_deferredunpaidofferingcosts                                       Deferred Unpaid Offering Costs   \n",
       "uber_litigationsettlementthroughstockissuance            Litigation Settlement Through Stock Issuance   \n",
       "\n",
       "                                                    2019-12-31    2018-12-31  \\\n",
       "consolidatedstatementsofcashflows                                              \n",
       "us-gaap_gainlossoninvestments                        2000000.0  2.000000e+09   \n",
       "uber_proceedsfrominsurancereimbursementsaleandd...  51000000.0  3.690000e+08   \n",
       "uber_paymentstoacquiredebtsecuritiesnotreadilym...         0.0  3.000000e+07   \n",
       "uber_deferredunpaidofferingcosts                           0.0  4.000000e+06   \n",
       "uber_litigationsettlementthroughstockissuance              0.0  2.500000e+08   \n",
       "\n",
       "                                                     2017-12-31  2016-12-31  \n",
       "consolidatedstatementsofcashflows                                            \n",
       "us-gaap_gainlossoninvestments                               0.0         NaN  \n",
       "uber_proceedsfrominsurancereimbursementsaleandd...  342000000.0         NaN  \n",
       "uber_paymentstoacquiredebtsecuritiesnotreadilym...          0.0         NaN  \n",
       "uber_deferredunpaidofferingcosts                            0.0         NaN  \n",
       "uber_litigationsettlementthroughstockissuance               0.0         NaN  "
      ]
     },
     "execution_count": 89,
     "metadata": {},
     "output_type": "execute_result"
    }
   ],
   "source": [
    "df[~df.index.isin(['us-gaap_profitloss', 'us-gaap_depreciationdepletionandamortization', 'us-gaap_provisionfordoubtfulaccounts', 'us-gaap_sharebasedcompensation', 'us-gaap_gainslossesonextinguishmentofdebt', 'us-gaap_disposalgroupnotdiscontinuedoperationgainlossondisposal', 'us-gaap_deferredincometaxexpensebenefit', 'us-gaap_embeddedderivativegainlossonembeddedderivativenet', 'us-gaap_amortizationofdebtdiscountpremium', 'us-gaap_paidinkindinterest', 'us-gaap_gainlossonsaleofpropertyplantequipment', 'us-gaap_impairmentoflonglivedassetstobedisposedof', 'us-gaap_incomelossfromequitymethodinvestments', 'us-gaap_debtandequitysecuritiesunrealizedgainloss', 'us-gaap_increasedecreaseincontractwithcustomerliability', 'us-gaap_fairvalueadjustmentofwarrants', 'us-gaap_foreigncurrencytransactiongainlossunrealized', 'us-gaap_othernoncashincomeexpense', 'us-gaap_increasedecreaseinaccountsreceivable', 'us-gaap_increasedecreaseinprepaiddeferredexpenseandotherassets', 'uber_increasedecreasefundsheldbyinsurers', 'uber_increasedecreaseinoperatingleaserightofuseassets', 'us-gaap_increasedecreaseinaccountspayable', 'uber_increasedecreaseininsurancereserve', 'us-gaap_increasedecreaseinaccruedliabilitiesandotheroperatingliabilities', 'uber_increasedecreaseinoperatingleaseliabilities', 'us-gaap_netcashprovidedbyusedinoperatingactivities', 'us-gaap_proceedsfromsaleofpropertyplantandequipment', 'us-gaap_paymentstoacquirepropertyplantandequipment', 'us-gaap_paymentstoacquireintangibleassets', 'us-gaap_paymentstoacquireequitymethodinvestments', 'us-gaap_proceedsfromequitymethodinvestmentdividendsordistributionsreturnofcapital', 'uber_paymentstoacquirenonmarketableinvestments', 'us-gaap_paymentstoacquiremarketablesecurities', 'us-gaap_proceedsfromsaleandmaturityofmarketablesecurities', 'us-gaap_proceedsfromdivestitureofbusinessesnetofcashdivested', 'us-gaap_paymentstoacquirebusinessesnetofcashacquired', 'us-gaap_netcashprovidedbyusedininvestingactivities', 'us-gaap_proceedsfromissuanceinitialpublicoffering', 'us-gaap_paymentsrelatedtotaxwithholdingforsharebasedcompensation', 'us-gaap_proceedsfromissuanceofprivateplacement', 'us-gaap_proceedsfromissuanceofpreferredstockandpreferencestock', 'us-gaap_proceedsfromstockoptionsexercised', 'uber_proceedsfromissuanceofcommonstockemployeestockpurchaseplan', 'us-gaap_paymentsforrepurchaseofequity', 'us-gaap_proceedsfromissuanceoflongtermdebt', 'us-gaap_repaymentsoflongtermdebt', 'us-gaap_proceedsfromlinesofcredit', 'us-gaap_repaymentsoflinesofcredit', 'us-gaap_repaymentsoflongtermcapitalleaseobligations', 'us-gaap_financeleaseprincipalpayments', 'us-gaap_proceedsfromissuanceofredeemableconvertiblepreferredstock', 'uber_proceedsfromdissolutionofjointventureandsubsequentproceeds', 'uber_repurchaseofstocksubjecttoputoption', 'us-gaap_proceedsfrompaymentsforotherfinancingactivities', 'us-gaap_netcashprovidedbyusedinfinancingactivities', 'us-gaap_effectofexchangerateoncashcashequivalentsrestrictedcashandrestrictedcashequivalents', 'us-gaap_cashcashequivalentsrestrictedcashandrestrictedcashequivalentsperiodincreasedecreaseincludingexchangerateeffect', 'us-gaap_cashcashequivalentsrestrictedcashandrestrictedcashequivalentsincludingdisposalgroupanddiscontinuedoperations', 'uber_cashcashequivalentsrestrictedcashandrestrictedcashequivalentsreclassificationfromtoassetsheldforsaleduringperiod', 'us-gaap_cashcashequivalentsrestrictedcashandrestrictedcashequivalents', 'us-gaap_interestpaidnet', 'us-gaap_incometaxespaidnet', 'us-gaap_conversionofstockamountconverted1', 'us-gaap_debtconversionconvertedinstrumentamount1', 'uber_sharebasedcompensationcapitalizedassoftwaredevelopmentcosts', 'uber_increasedecreaseincapitalassetsincurredbutnotyetpaid', 'uber_increasedecreaseinsharerepurchasecommitmentincurredbutnotyetpaid', 'us-gaap_constructioninprogressexpendituresincurredbutnotyetpaid', 'us-gaap_capitalleaseobligationsincurred', 'us-gaap_disposalgroupnotdiscontinuedoperationgainlossondisposal', 'us-gaap_proceedsfromequitymethodinvestmentdividendsordistributionsreturnofcapital', 'us-gaap_stockissued1', 'uber_ownershipinterestacquiredthroughdissolutionofjointventure', 'us-gaap_noncashorpartnoncashdivestitureamountofconsiderationreceived1'])]"
   ]
  },
  {
   "cell_type": "code",
   "execution_count": 96,
   "metadata": {},
   "outputs": [
    {
     "data": {
      "text/plain": [
       "array([ True,  True,  True,  True,  True,  True,  True,  True,  True,\n",
       "        True,  True,  True,  True, False,  True,  True,  True,  True,\n",
       "        True,  True,  True,  True,  True,  True,  True,  True,  True,\n",
       "       False,  True,  True,  True, False,  True,  True,  True,  True,\n",
       "        True,  True,  True,  True,  True,  True,  True,  True,  True,\n",
       "        True,  True,  True,  True,  True,  True,  True,  True,  True,\n",
       "        True,  True,  True,  True,  True,  True,  True,  True,  True,\n",
       "        True,  True,  True,  True,  True,  True,  True, False, False,\n",
       "        True,  True,  True])"
      ]
     },
     "execution_count": 96,
     "metadata": {},
     "output_type": "execute_result"
    }
   ],
   "source": [
    "df.index.isin(['us-gaap_profitloss', 'us-gaap_depreciationdepletionandamortization', 'us-gaap_provisionfordoubtfulaccounts', 'us-gaap_sharebasedcompensation', 'us-gaap_gainslossesonextinguishmentofdebt', 'us-gaap_disposalgroupnotdiscontinuedoperationgainlossondisposal', 'us-gaap_deferredincometaxexpensebenefit', 'us-gaap_embeddedderivativegainlossonembeddedderivativenet', 'us-gaap_amortizationofdebtdiscountpremium', 'us-gaap_paidinkindinterest', 'us-gaap_gainlossonsaleofpropertyplantequipment', 'us-gaap_impairmentoflonglivedassetstobedisposedof', 'us-gaap_incomelossfromequitymethodinvestments', 'us-gaap_debtandequitysecuritiesunrealizedgainloss', 'us-gaap_increasedecreaseincontractwithcustomerliability', 'us-gaap_fairvalueadjustmentofwarrants', 'us-gaap_foreigncurrencytransactiongainlossunrealized', 'us-gaap_othernoncashincomeexpense', 'us-gaap_increasedecreaseinaccountsreceivable', 'us-gaap_increasedecreaseinprepaiddeferredexpenseandotherassets', 'uber_increasedecreasefundsheldbyinsurers', 'uber_increasedecreaseinoperatingleaserightofuseassets', 'us-gaap_increasedecreaseinaccountspayable', 'uber_increasedecreaseininsurancereserve', 'us-gaap_increasedecreaseinaccruedliabilitiesandotheroperatingliabilities', 'uber_increasedecreaseinoperatingleaseliabilities', 'us-gaap_netcashprovidedbyusedinoperatingactivities', 'us-gaap_proceedsfromsaleofpropertyplantandequipment', 'us-gaap_paymentstoacquirepropertyplantandequipment', 'us-gaap_paymentstoacquireintangibleassets', 'us-gaap_paymentstoacquireequitymethodinvestments', 'us-gaap_proceedsfromequitymethodinvestmentdividendsordistributionsreturnofcapital', 'uber_paymentstoacquirenonmarketableinvestments', 'us-gaap_paymentstoacquiremarketablesecurities', 'us-gaap_proceedsfromsaleandmaturityofmarketablesecurities', 'us-gaap_proceedsfromdivestitureofbusinessesnetofcashdivested', 'us-gaap_paymentstoacquirebusinessesnetofcashacquired', 'us-gaap_netcashprovidedbyusedininvestingactivities', 'us-gaap_proceedsfromissuanceinitialpublicoffering', 'us-gaap_paymentsrelatedtotaxwithholdingforsharebasedcompensation', 'us-gaap_proceedsfromissuanceofprivateplacement', 'us-gaap_proceedsfromissuanceofpreferredstockandpreferencestock', 'us-gaap_proceedsfromstockoptionsexercised', 'uber_proceedsfromissuanceofcommonstockemployeestockpurchaseplan', 'us-gaap_paymentsforrepurchaseofequity', 'us-gaap_proceedsfromissuanceoflongtermdebt', 'us-gaap_repaymentsoflongtermdebt', 'us-gaap_proceedsfromlinesofcredit', 'us-gaap_repaymentsoflinesofcredit', 'us-gaap_repaymentsoflongtermcapitalleaseobligations', 'us-gaap_financeleaseprincipalpayments', 'us-gaap_proceedsfromissuanceofredeemableconvertiblepreferredstock', 'uber_proceedsfromdissolutionofjointventureandsubsequentproceeds', 'uber_repurchaseofstocksubjecttoputoption', 'us-gaap_proceedsfrompaymentsforotherfinancingactivities', 'us-gaap_netcashprovidedbyusedinfinancingactivities', 'us-gaap_effectofexchangerateoncashcashequivalentsrestrictedcashandrestrictedcashequivalents', 'us-gaap_cashcashequivalentsrestrictedcashandrestrictedcashequivalentsperiodincreasedecreaseincludingexchangerateeffect', 'us-gaap_cashcashequivalentsrestrictedcashandrestrictedcashequivalentsincludingdisposalgroupanddiscontinuedoperations', 'uber_cashcashequivalentsrestrictedcashandrestrictedcashequivalentsreclassificationfromtoassetsheldforsaleduringperiod', 'us-gaap_cashcashequivalentsrestrictedcashandrestrictedcashequivalents', 'us-gaap_interestpaidnet', 'us-gaap_incometaxespaidnet', 'us-gaap_conversionofstockamountconverted1', 'us-gaap_debtconversionconvertedinstrumentamount1', 'uber_sharebasedcompensationcapitalizedassoftwaredevelopmentcosts', 'uber_increasedecreaseincapitalassetsincurredbutnotyetpaid', 'uber_increasedecreaseinsharerepurchasecommitmentincurredbutnotyetpaid', 'us-gaap_constructioninprogressexpendituresincurredbutnotyetpaid', 'us-gaap_capitalleaseobligationsincurred', 'us-gaap_disposalgroupnotdiscontinuedoperationgainlossondisposal', 'us-gaap_proceedsfromequitymethodinvestmentdividendsordistributionsreturnofcapital', 'us-gaap_stockissued1', 'uber_ownershipinterestacquiredthroughdissolutionofjointventure', 'us-gaap_noncashorpartnoncashdivestitureamountofconsiderationreceived1']\n",
    ")"
   ]
  },
  {
   "cell_type": "code",
   "execution_count": 97,
   "metadata": {},
   "outputs": [
    {
     "name": "stdout",
     "output_type": "stream",
     "text": [
      "Collecting yfinance\n",
      "  Downloading yfinance-0.1.54.tar.gz (19 kB)\n",
      "Requirement already satisfied: pandas>=0.24 in /Users/goldbloom/opt/anaconda3/lib/python3.7/site-packages (from yfinance) (1.0.1)\n",
      "Requirement already satisfied: numpy>=1.15 in /Users/goldbloom/opt/anaconda3/lib/python3.7/site-packages (from yfinance) (1.18.1)\n",
      "Requirement already satisfied: requests>=2.20 in /Users/goldbloom/opt/anaconda3/lib/python3.7/site-packages (from yfinance) (2.22.0)\n",
      "Collecting multitasking>=0.0.7\n",
      "  Downloading multitasking-0.0.9.tar.gz (8.1 kB)\n",
      "Requirement already satisfied: python-dateutil>=2.6.1 in /Users/goldbloom/opt/anaconda3/lib/python3.7/site-packages (from pandas>=0.24->yfinance) (2.8.1)\n",
      "Requirement already satisfied: pytz>=2017.2 in /Users/goldbloom/opt/anaconda3/lib/python3.7/site-packages (from pandas>=0.24->yfinance) (2019.3)\n",
      "Requirement already satisfied: chardet<3.1.0,>=3.0.2 in /Users/goldbloom/opt/anaconda3/lib/python3.7/site-packages (from requests>=2.20->yfinance) (3.0.4)\n",
      "Requirement already satisfied: idna<2.9,>=2.5 in /Users/goldbloom/opt/anaconda3/lib/python3.7/site-packages (from requests>=2.20->yfinance) (2.8)\n",
      "Requirement already satisfied: urllib3!=1.25.0,!=1.25.1,<1.26,>=1.21.1 in /Users/goldbloom/opt/anaconda3/lib/python3.7/site-packages (from requests>=2.20->yfinance) (1.25.8)\n",
      "Requirement already satisfied: certifi>=2017.4.17 in /Users/goldbloom/opt/anaconda3/lib/python3.7/site-packages (from requests>=2.20->yfinance) (2019.11.28)\n",
      "Requirement already satisfied: six>=1.5 in /Users/goldbloom/opt/anaconda3/lib/python3.7/site-packages (from python-dateutil>=2.6.1->pandas>=0.24->yfinance) (1.14.0)\n",
      "Building wheels for collected packages: yfinance, multitasking\n",
      "  Building wheel for yfinance (setup.py) ... \u001b[?25ldone\n",
      "\u001b[?25h  Created wheel for yfinance: filename=yfinance-0.1.54-py2.py3-none-any.whl size=22409 sha256=6bd735b63675ca84457fe0eda0f77a2221fe3e8d54e94b19e3dabea8bc6e08da\n",
      "  Stored in directory: /Users/goldbloom/Library/Caches/pip/wheels/28/79/3c/08a301b673366fe664fe2853e136eb2acc1bb752045c11c6a1\n",
      "  Building wheel for multitasking (setup.py) ... \u001b[?25ldone\n",
      "\u001b[?25h  Created wheel for multitasking: filename=multitasking-0.0.9-py3-none-any.whl size=8366 sha256=49661ddf7d0dac1188372e161d429c63b8ae541c84a65ed578ab64b26fd124a7\n",
      "  Stored in directory: /Users/goldbloom/Library/Caches/pip/wheels/ae/25/47/4d68431a7ec1b6c4b5233365934b74c1d4e665bf5f968d363a\n",
      "Successfully built yfinance multitasking\n",
      "Installing collected packages: multitasking, yfinance\n",
      "Successfully installed multitasking-0.0.9 yfinance-0.1.54\n",
      "Note: you may need to restart the kernel to use updated packages.\n"
     ]
    }
   ],
   "source": [
    "pip install yfinance"
   ]
  },
  {
   "cell_type": "code",
   "execution_count": 103,
   "metadata": {},
   "outputs": [
    {
     "name": "stdout",
     "output_type": "stream",
     "text": [
      "1579251400704\n"
     ]
    }
   ],
   "source": [
    "import yfinance as yf\n",
    "\n",
    "msft = yf.Ticker(\"MSFT\")\n",
    "\n",
    "# get stock info\n",
    "print(msft.info['marketCap'])"
   ]
  },
  {
   "cell_type": "code",
   "execution_count": 100,
   "metadata": {},
   "outputs": [
    {
     "data": {
      "text/html": [
       "<div>\n",
       "<style scoped>\n",
       "    .dataframe tbody tr th:only-of-type {\n",
       "        vertical-align: middle;\n",
       "    }\n",
       "\n",
       "    .dataframe tbody tr th {\n",
       "        vertical-align: top;\n",
       "    }\n",
       "\n",
       "    .dataframe thead th {\n",
       "        text-align: right;\n",
       "    }\n",
       "</style>\n",
       "<table border=\"1\" class=\"dataframe\">\n",
       "  <thead>\n",
       "    <tr style=\"text-align: right;\">\n",
       "      <th></th>\n",
       "      <th>Open</th>\n",
       "      <th>High</th>\n",
       "      <th>Low</th>\n",
       "      <th>Close</th>\n",
       "      <th>Volume</th>\n",
       "      <th>Dividends</th>\n",
       "      <th>Stock Splits</th>\n",
       "    </tr>\n",
       "    <tr>\n",
       "      <th>Date</th>\n",
       "      <th></th>\n",
       "      <th></th>\n",
       "      <th></th>\n",
       "      <th></th>\n",
       "      <th></th>\n",
       "      <th></th>\n",
       "      <th></th>\n",
       "    </tr>\n",
       "  </thead>\n",
       "  <tbody>\n",
       "    <tr>\n",
       "      <th>2020-06-30</th>\n",
       "      <td>197.88</td>\n",
       "      <td>204.40</td>\n",
       "      <td>197.74</td>\n",
       "      <td>203.51</td>\n",
       "      <td>34310300</td>\n",
       "      <td>0</td>\n",
       "      <td>0</td>\n",
       "    </tr>\n",
       "    <tr>\n",
       "      <th>2020-07-01</th>\n",
       "      <td>203.14</td>\n",
       "      <td>206.35</td>\n",
       "      <td>201.77</td>\n",
       "      <td>204.70</td>\n",
       "      <td>32061200</td>\n",
       "      <td>0</td>\n",
       "      <td>0</td>\n",
       "    </tr>\n",
       "    <tr>\n",
       "      <th>2020-07-02</th>\n",
       "      <td>205.68</td>\n",
       "      <td>208.02</td>\n",
       "      <td>205.00</td>\n",
       "      <td>206.26</td>\n",
       "      <td>29315800</td>\n",
       "      <td>0</td>\n",
       "      <td>0</td>\n",
       "    </tr>\n",
       "    <tr>\n",
       "      <th>2020-07-06</th>\n",
       "      <td>208.83</td>\n",
       "      <td>211.13</td>\n",
       "      <td>208.09</td>\n",
       "      <td>210.70</td>\n",
       "      <td>31897600</td>\n",
       "      <td>0</td>\n",
       "      <td>0</td>\n",
       "    </tr>\n",
       "    <tr>\n",
       "      <th>2020-07-07</th>\n",
       "      <td>210.45</td>\n",
       "      <td>214.67</td>\n",
       "      <td>207.99</td>\n",
       "      <td>208.25</td>\n",
       "      <td>33530900</td>\n",
       "      <td>0</td>\n",
       "      <td>0</td>\n",
       "    </tr>\n",
       "  </tbody>\n",
       "</table>\n",
       "</div>"
      ],
      "text/plain": [
       "              Open    High     Low   Close    Volume  Dividends  Stock Splits\n",
       "Date                                                                         \n",
       "2020-06-30  197.88  204.40  197.74  203.51  34310300          0             0\n",
       "2020-07-01  203.14  206.35  201.77  204.70  32061200          0             0\n",
       "2020-07-02  205.68  208.02  205.00  206.26  29315800          0             0\n",
       "2020-07-06  208.83  211.13  208.09  210.70  31897600          0             0\n",
       "2020-07-07  210.45  214.67  207.99  208.25  33530900          0             0"
      ]
     },
     "execution_count": 100,
     "metadata": {},
     "output_type": "execute_result"
    }
   ],
   "source": [
    "msft.history(period=\"5d\")\n"
   ]
  },
  {
   "cell_type": "code",
   "execution_count": null,
   "metadata": {},
   "outputs": [],
   "source": []
  }
 ],
 "metadata": {
  "kernelspec": {
   "display_name": "Python 3",
   "language": "python",
   "name": "python3"
  },
  "language_info": {
   "codemirror_mode": {
    "name": "ipython",
    "version": 3
   },
   "file_extension": ".py",
   "mimetype": "text/x-python",
   "name": "python",
   "nbconvert_exporter": "python",
   "pygments_lexer": "ipython3",
   "version": "3.7.6"
  }
 },
 "nbformat": 4,
 "nbformat_minor": 4
}
