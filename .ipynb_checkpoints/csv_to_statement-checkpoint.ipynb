{
 "cells": [
  {
   "cell_type": "code",
   "execution_count": 1,
   "metadata": {},
   "outputs": [],
   "source": [
    "import pandas as pd\n",
    "pd.set_option('max_columns', 50)"
   ]
  },
  {
   "cell_type": "code",
   "execution_count": 2,
   "metadata": {},
   "outputs": [],
   "source": [
    "csv_path = '../data/csv/'\n",
    "ticker = 'AMZN'\n"
   ]
  },
  {
   "cell_type": "code",
   "execution_count": 3,
   "metadata": {
    "tags": []
   },
   "outputs": [
    {
     "output_type": "stream",
     "name": "stdout",
     "text": "../data/csv/AMZN/2015-09-30 (10-Q)/Statement/1002000 - Statement - Consolidated Statements Of Operations.csv\n../data/csv/AMZN/2017-03-31 (10-Q)/Statement/1002000 - Statement - Consolidated Statements Of Operations.csv\n../data/csv/AMZN/2013-09-30 (10-Q)/Statement/1002000 - Statement - Consolidated Statements Of Operations.csv\n../data/csv/AMZN/2016-03-31 (10-Q)/Statement/1002000 - Statement - Consolidated Statements Of Operations.csv\n../data/csv/AMZN/2014-09-30 (10-Q)/Statement/1002000 - Statement - Consolidated Statements Of Operations.csv\n../data/csv/AMZN/2020-03-31 (10-Q)/Statement/1002000 - Statement - Consolidated Statements of Operations.csv\n../data/csv/AMZN/2019-09-30 (10-Q)/Statement/1002000 - Statement - Consolidated Statements of Operations.csv\n../data/csv/AMZN/2016-06-30 (10-Q)/Statement/1002000 - Statement - Consolidated Statements Of Operations.csv\n../data/csv/AMZN/2018-09-30 (10-Q)/Statement/1002000 - Statement - Consolidated Statements of Operations.csv\n../data/csv/AMZN/2017-06-30 (10-Q)/Statement/1002000 - Statement - Consolidated Statements of Operations.csv\n../data/csv/AMZN/2015-06-30 (10-Q)/Statement/1002000 - Statement - Consolidated Statements Of Operations.csv\n../data/csv/AMZN/2018-03-31 (10-Q)/Statement/1002000 - Statement - Consolidated Statements of Operations.csv\n../data/csv/AMZN/2014-06-30 (10-Q)/Statement/1002000 - Statement - Consolidated Statements Of Operations.csv\n../data/csv/AMZN/2019-03-31 (10-Q)/Statement/1002000 - Statement - Consolidated Statements of Operations.csv\n../data/csv/AMZN/2019-06-30 (10-Q)/Statement/1002000 - Statement - Consolidated Statements of Operations.csv\n../data/csv/AMZN/2016-09-30 (10-Q)/Statement/1002000 - Statement - Consolidated Statements Of Operations.csv\n../data/csv/AMZN/2014-03-31 (10-Q)/Statement/1002000 - Statement - Consolidated Statements Of Operations.csv\n../data/csv/AMZN/2018-06-30 (10-Q)/Statement/1002000 - Statement - Consolidated Statements of Operations.csv\n../data/csv/AMZN/2015-03-31 (10-Q)/Statement/1002000 - Statement - Consolidated Statements Of Operations.csv\n../data/csv/AMZN/2017-09-30 (10-Q)/Statement/1002000 - Statement - Consolidated Statements of Operations.csv\n"
    }
   ],
   "source": [
    "df_dict = {}\n",
    "\n",
    "import os\n",
    "for dirname, _, filenames in os.walk(f\"{csv_path}{ticker}\"):\n",
    "    if '(10-Q)' in dirname:\n",
    "        for filename in filenames:\n",
    "            #print(filename)\n",
    "            if filename.lower() == '1002000 - Statement - Consolidated Statements Of Operations.csv'.lower():\n",
    "                full_path = os.path.join(dirname, filename)\n",
    "                print(full_path)\n",
    "                df_dict[full_path[17:27]] = pd.read_csv(full_path,index_col=[0])\n"
   ]
  },
  {
   "cell_type": "code",
   "execution_count": 4,
   "metadata": {},
   "outputs": [],
   "source": [
    "date_list = sorted(list(df_dict.keys()),reverse=True)"
   ]
  },
  {
   "cell_type": "code",
   "execution_count": 5,
   "metadata": {},
   "outputs": [
    {
     "output_type": "execute_result",
     "data": {
      "text/plain": "['2020-03-31',\n '2019-09-30',\n '2019-06-30',\n '2019-03-31',\n '2018-09-30',\n '2018-06-30',\n '2018-03-31',\n '2017-09-30',\n '2017-06-30',\n '2017-03-31',\n '2016-09-30',\n '2016-06-30',\n '2016-03-31',\n '2015-09-30',\n '2015-06-30',\n '2015-03-31',\n '2014-09-30',\n '2014-06-30',\n '2014-03-31',\n '2013-09-30']"
     },
     "metadata": {},
     "execution_count": 5
    }
   ],
   "source": [
    "date_list"
   ]
  },
  {
   "cell_type": "code",
   "execution_count": 6,
   "metadata": {
    "tags": []
   },
   "outputs": [],
   "source": [
    "for date in date_list:\n",
    "    if date == date_list[0]:\n",
    "        master_df = df_dict[date]\n",
    "    else:\n",
    "        #df_dict.\n",
    "        new_columns = df_dict[date].columns.difference(master_df.columns)\n",
    "        master_df = master_df.merge(df_dict[date][new_columns],left_index=True,right_index=True,how='outer')\n",
    "        master_df.loc[master_df.index.isin(df_dict[date].index),master_df.columns.isin(df_dict[date].columns)] = df_dict[date]\n"
   ]
  },
  {
   "cell_type": "code",
   "execution_count": 7,
   "metadata": {},
   "outputs": [
    {
     "output_type": "stream",
     "text": "\u001b[0;31mType:\u001b[0m        property\n\u001b[0;31mString form:\u001b[0m <property object at 0x11d252050>\n\u001b[0;31mDocstring:\u001b[0m  \nAccess a group of rows and columns by label(s) or a boolean array.\n\n``.loc[]`` is primarily label based, but may also be used with a\nboolean array.\n\nAllowed inputs are:\n\n- A single label, e.g. ``5`` or ``'a'``, (note that ``5`` is\n  interpreted as a *label* of the index, and **never** as an\n  integer position along the index).\n- A list or array of labels, e.g. ``['a', 'b', 'c']``.\n- A slice object with labels, e.g. ``'a':'f'``.\n\n  .. warning:: Note that contrary to usual python slices, **both** the\n      start and the stop are included\n\n- A boolean array of the same length as the axis being sliced,\n  e.g. ``[True, False, True]``.\n- A ``callable`` function with one argument (the calling Series or\n  DataFrame) and that returns valid output for indexing (one of the above)\n\nSee more at :ref:`Selection by Label <indexing.label>`\n\nRaises\n------\nKeyError\n    If any items are not found.\n\nSee Also\n--------\nDataFrame.at : Access a single value for a row/column label pair.\nDataFrame.iloc : Access group of rows and columns by integer position(s).\nDataFrame.xs : Returns a cross-section (row(s) or column(s)) from the\n    Series/DataFrame.\nSeries.loc : Access group of values using labels.\n\nExamples\n--------\n**Getting values**\n\n>>> df = pd.DataFrame([[1, 2], [4, 5], [7, 8]],\n...      index=['cobra', 'viper', 'sidewinder'],\n...      columns=['max_speed', 'shield'])\n>>> df\n            max_speed  shield\ncobra               1       2\nviper               4       5\nsidewinder          7       8\n\nSingle label. Note this returns the row as a Series.\n\n>>> df.loc['viper']\nmax_speed    4\nshield       5\nName: viper, dtype: int64\n\nList of labels. Note using ``[[]]`` returns a DataFrame.\n\n>>> df.loc[['viper', 'sidewinder']]\n            max_speed  shield\nviper               4       5\nsidewinder          7       8\n\nSingle label for row and column\n\n>>> df.loc['cobra', 'shield']\n2\n\nSlice with labels for row and single label for column. As mentioned\nabove, note that both the start and stop of the slice are included.\n\n>>> df.loc['cobra':'viper', 'max_speed']\ncobra    1\nviper    4\nName: max_speed, dtype: int64\n\nBoolean list with the same length as the row axis\n\n>>> df.loc[[False, False, True]]\n            max_speed  shield\nsidewinder          7       8\n\nConditional that returns a boolean Series\n\n>>> df.loc[df['shield'] > 6]\n            max_speed  shield\nsidewinder          7       8\n\nConditional that returns a boolean Series with column labels specified\n\n>>> df.loc[df['shield'] > 6, ['max_speed']]\n            max_speed\nsidewinder          7\n\nCallable that returns a boolean Series\n\n>>> df.loc[lambda df: df['shield'] == 8]\n            max_speed  shield\nsidewinder          7       8\n\n**Setting values**\n\nSet value for all items matching the list of labels\n\n>>> df.loc[['viper', 'sidewinder'], ['shield']] = 50\n>>> df\n            max_speed  shield\ncobra               1       2\nviper               4      50\nsidewinder          7      50\n\nSet value for an entire row\n\n>>> df.loc['cobra'] = 10\n>>> df\n            max_speed  shield\ncobra              10      10\nviper               4      50\nsidewinder          7      50\n\nSet value for an entire column\n\n>>> df.loc[:, 'max_speed'] = 30\n>>> df\n            max_speed  shield\ncobra              30      10\nviper              30      50\nsidewinder         30      50\n\nSet value for rows matching callable condition\n\n>>> df.loc[df['shield'] > 35] = 0\n>>> df\n            max_speed  shield\ncobra              30      10\nviper               0       0\nsidewinder          0       0\n\n**Getting values on a DataFrame with an index that has integer labels**\n\nAnother example using integers for the index\n\n>>> df = pd.DataFrame([[1, 2], [4, 5], [7, 8]],\n...      index=[7, 8, 9], columns=['max_speed', 'shield'])\n>>> df\n   max_speed  shield\n7          1       2\n8          4       5\n9          7       8\n\nSlice with integer labels for rows. As mentioned above, note that both\nthe start and stop of the slice are included.\n\n>>> df.loc[7:9]\n   max_speed  shield\n7          1       2\n8          4       5\n9          7       8\n\n**Getting values with a MultiIndex**\n\nA number of examples using a DataFrame with a MultiIndex\n\n>>> tuples = [\n...    ('cobra', 'mark i'), ('cobra', 'mark ii'),\n...    ('sidewinder', 'mark i'), ('sidewinder', 'mark ii'),\n...    ('viper', 'mark ii'), ('viper', 'mark iii')\n... ]\n>>> index = pd.MultiIndex.from_tuples(tuples)\n>>> values = [[12, 2], [0, 4], [10, 20],\n...         [1, 4], [7, 1], [16, 36]]\n>>> df = pd.DataFrame(values, columns=['max_speed', 'shield'], index=index)\n>>> df\n                     max_speed  shield\ncobra      mark i           12       2\n           mark ii           0       4\nsidewinder mark i           10      20\n           mark ii           1       4\nviper      mark ii           7       1\n           mark iii         16      36\n\nSingle label. Note this returns a DataFrame with a single index.\n\n>>> df.loc['cobra']\n         max_speed  shield\nmark i          12       2\nmark ii          0       4\n\nSingle index tuple. Note this returns a Series.\n\n>>> df.loc[('cobra', 'mark ii')]\nmax_speed    0\nshield       4\nName: (cobra, mark ii), dtype: int64\n\nSingle label for row and column. Similar to passing in a tuple, this\nreturns a Series.\n\n>>> df.loc['cobra', 'mark i']\nmax_speed    12\nshield        2\nName: (cobra, mark i), dtype: int64\n\nSingle tuple. Note using ``[[]]`` returns a DataFrame.\n\n>>> df.loc[[('cobra', 'mark ii')]]\n               max_speed  shield\ncobra mark ii          0       4\n\nSingle tuple for the index with a single label for the column\n\n>>> df.loc[('cobra', 'mark i'), 'shield']\n2\n\nSlice from index tuple to single label\n\n>>> df.loc[('cobra', 'mark i'):'viper']\n                     max_speed  shield\ncobra      mark i           12       2\n           mark ii           0       4\nsidewinder mark i           10      20\n           mark ii           1       4\nviper      mark ii           7       1\n           mark iii         16      36\n\nSlice from index tuple to index tuple\n\n>>> df.loc[('cobra', 'mark i'):('viper', 'mark ii')]\n                    max_speed  shield\ncobra      mark i          12       2\n           mark ii          0       4\nsidewinder mark i          10      20\n           mark ii          1       4\nviper      mark ii          7       1\n"
    }
   ],
   "source": [
    "?master_df.loc"
   ]
  },
  {
   "cell_type": "code",
   "execution_count": 8,
   "metadata": {},
   "outputs": [
    {
     "output_type": "execute_result",
     "data": {
      "text/plain": "                                                      2020-03-31  \\\nus-gaap_revenuefromcontractwithcustomerexcludin...  7.545200e+10   \nus-gaap_salesrevenuenet                                      NaN   \n\n                                                      2019-03-31  \\\nus-gaap_revenuefromcontractwithcustomerexcludin...  5.970000e+10   \nus-gaap_salesrevenuenet                                      NaN   \n\n                                                      2018-09-30  \\\nus-gaap_revenuefromcontractwithcustomerexcludin...  5.657600e+10   \nus-gaap_salesrevenuenet                                      NaN   \n\n                                                      2019-09-30  \\\nus-gaap_revenuefromcontractwithcustomerexcludin...  6.998100e+10   \nus-gaap_salesrevenuenet                                      NaN   \n\n                                                      2018-06-30  \\\nus-gaap_revenuefromcontractwithcustomerexcludin...  5.288600e+10   \nus-gaap_salesrevenuenet                             5.288600e+10   \n\n                                                      2019-06-30  \\\nus-gaap_revenuefromcontractwithcustomerexcludin...  6.340400e+10   \nus-gaap_salesrevenuenet                                      NaN   \n\n                                                      2018-03-31  \\\nus-gaap_revenuefromcontractwithcustomerexcludin...  5.104200e+10   \nus-gaap_salesrevenuenet                             5.104200e+10   \n\n                                                      2017-09-30  \\\nus-gaap_revenuefromcontractwithcustomerexcludin...  4.374400e+10   \nus-gaap_salesrevenuenet                             4.374400e+10   \n\n                                                      2017-06-30  \\\nus-gaap_revenuefromcontractwithcustomerexcludin...           NaN   \nus-gaap_salesrevenuenet                             3.795500e+10   \n\n                                                      2017-03-31  \\\nus-gaap_revenuefromcontractwithcustomerexcludin...           NaN   \nus-gaap_salesrevenuenet                             3.571400e+10   \n\n                                                      2016-09-30  \\\nus-gaap_revenuefromcontractwithcustomerexcludin...           NaN   \nus-gaap_salesrevenuenet                             3.271400e+10   \n\n                                                      2016-06-30  \\\nus-gaap_revenuefromcontractwithcustomerexcludin...           NaN   \nus-gaap_salesrevenuenet                             3.040400e+10   \n\n                                                      2016-03-31  \\\nus-gaap_revenuefromcontractwithcustomerexcludin...           NaN   \nus-gaap_salesrevenuenet                             2.912800e+10   \n\n                                                      2015-09-30  \\\nus-gaap_revenuefromcontractwithcustomerexcludin...           NaN   \nus-gaap_salesrevenuenet                             2.535800e+10   \n\n                                                      2015-06-30  \\\nus-gaap_revenuefromcontractwithcustomerexcludin...           NaN   \nus-gaap_salesrevenuenet                             2.318500e+10   \n\n                                                      2015-03-31  \\\nus-gaap_revenuefromcontractwithcustomerexcludin...           NaN   \nus-gaap_salesrevenuenet                             2.271700e+10   \n\n                                                      2014-09-30  \\\nus-gaap_revenuefromcontractwithcustomerexcludin...           NaN   \nus-gaap_salesrevenuenet                             2.057900e+10   \n\n                                                      2014-06-30  \\\nus-gaap_revenuefromcontractwithcustomerexcludin...           NaN   \nus-gaap_salesrevenuenet                             1.934000e+10   \n\n                                                      2014-03-31  \\\nus-gaap_revenuefromcontractwithcustomerexcludin...           NaN   \nus-gaap_salesrevenuenet                             1.974100e+10   \n\n                                                      2013-09-30  \\\nus-gaap_revenuefromcontractwithcustomerexcludin...           NaN   \nus-gaap_salesrevenuenet                             1.709200e+10   \n\n                                                      2013-06-30  \\\nus-gaap_revenuefromcontractwithcustomerexcludin...           NaN   \nus-gaap_salesrevenuenet                             1.570400e+10   \n\n                                                      2013-03-31    2012-09-30  \nus-gaap_revenuefromcontractwithcustomerexcludin...           NaN           NaN  \nus-gaap_salesrevenuenet                             1.607000e+10  1.380600e+10  ",
      "text/html": "<div>\n<style scoped>\n    .dataframe tbody tr th:only-of-type {\n        vertical-align: middle;\n    }\n\n    .dataframe tbody tr th {\n        vertical-align: top;\n    }\n\n    .dataframe thead th {\n        text-align: right;\n    }\n</style>\n<table border=\"1\" class=\"dataframe\">\n  <thead>\n    <tr style=\"text-align: right;\">\n      <th></th>\n      <th>2020-03-31</th>\n      <th>2019-03-31</th>\n      <th>2018-09-30</th>\n      <th>2019-09-30</th>\n      <th>2018-06-30</th>\n      <th>2019-06-30</th>\n      <th>2018-03-31</th>\n      <th>2017-09-30</th>\n      <th>2017-06-30</th>\n      <th>2017-03-31</th>\n      <th>2016-09-30</th>\n      <th>2016-06-30</th>\n      <th>2016-03-31</th>\n      <th>2015-09-30</th>\n      <th>2015-06-30</th>\n      <th>2015-03-31</th>\n      <th>2014-09-30</th>\n      <th>2014-06-30</th>\n      <th>2014-03-31</th>\n      <th>2013-09-30</th>\n      <th>2013-06-30</th>\n      <th>2013-03-31</th>\n      <th>2012-09-30</th>\n    </tr>\n  </thead>\n  <tbody>\n    <tr>\n      <th>us-gaap_revenuefromcontractwithcustomerexcludingassessedtax</th>\n      <td>7.545200e+10</td>\n      <td>5.970000e+10</td>\n      <td>5.657600e+10</td>\n      <td>6.998100e+10</td>\n      <td>5.288600e+10</td>\n      <td>6.340400e+10</td>\n      <td>5.104200e+10</td>\n      <td>4.374400e+10</td>\n      <td>NaN</td>\n      <td>NaN</td>\n      <td>NaN</td>\n      <td>NaN</td>\n      <td>NaN</td>\n      <td>NaN</td>\n      <td>NaN</td>\n      <td>NaN</td>\n      <td>NaN</td>\n      <td>NaN</td>\n      <td>NaN</td>\n      <td>NaN</td>\n      <td>NaN</td>\n      <td>NaN</td>\n      <td>NaN</td>\n    </tr>\n    <tr>\n      <th>us-gaap_salesrevenuenet</th>\n      <td>NaN</td>\n      <td>NaN</td>\n      <td>NaN</td>\n      <td>NaN</td>\n      <td>5.288600e+10</td>\n      <td>NaN</td>\n      <td>5.104200e+10</td>\n      <td>4.374400e+10</td>\n      <td>3.795500e+10</td>\n      <td>3.571400e+10</td>\n      <td>3.271400e+10</td>\n      <td>3.040400e+10</td>\n      <td>2.912800e+10</td>\n      <td>2.535800e+10</td>\n      <td>2.318500e+10</td>\n      <td>2.271700e+10</td>\n      <td>2.057900e+10</td>\n      <td>1.934000e+10</td>\n      <td>1.974100e+10</td>\n      <td>1.709200e+10</td>\n      <td>1.570400e+10</td>\n      <td>1.607000e+10</td>\n      <td>1.380600e+10</td>\n    </tr>\n  </tbody>\n</table>\n</div>"
     },
     "metadata": {},
     "execution_count": 8
    }
   ],
   "source": [
    "tmp_df = master_df.loc[master_df.index.isin(['us-gaap_salesrevenuenet','us-gaap_revenuefromcontractwithcustomerexcludingassessedtax']),:]\n",
    "tmp_df"
   ]
  },
  {
   "cell_type": "code",
   "execution_count": 43,
   "metadata": {},
   "outputs": [
    {
     "output_type": "error",
     "ename": "IndexError",
     "evalue": "Boolean index has wrong length: 2 instead of 23",
     "traceback": [
      "\u001b[0;31m---------------------------------------------------------------------------\u001b[0m",
      "\u001b[0;31mIndexError\u001b[0m                                Traceback (most recent call last)",
      "\u001b[0;32m<ipython-input-43-309c47f8d841>\u001b[0m in \u001b[0;36m<module>\u001b[0;34m\u001b[0m\n\u001b[1;32m      1\u001b[0m \u001b[0;32mif\u001b[0m \u001b[0;34m(\u001b[0m\u001b[0mtmp_df\u001b[0m\u001b[0;34m.\u001b[0m\u001b[0mloc\u001b[0m\u001b[0;34m[\u001b[0m\u001b[0;34m'us-gaap_revenuefromcontractwithcustomerexcludingassessedtax'\u001b[0m\u001b[0;34m,\u001b[0m\u001b[0mtmp_df\u001b[0m\u001b[0;34m.\u001b[0m\u001b[0mnotna\u001b[0m\u001b[0;34m(\u001b[0m\u001b[0;34m)\u001b[0m\u001b[0;34m.\u001b[0m\u001b[0mall\u001b[0m\u001b[0;34m(\u001b[0m\u001b[0maxis\u001b[0m\u001b[0;34m=\u001b[0m\u001b[0;36m0\u001b[0m\u001b[0;34m)\u001b[0m\u001b[0;34m]\u001b[0m\u001b[0;34m==\u001b[0m\u001b[0mtmp_df\u001b[0m\u001b[0;34m.\u001b[0m\u001b[0mloc\u001b[0m\u001b[0;34m[\u001b[0m\u001b[0;34m'us-gaap_salesrevenuenet'\u001b[0m\u001b[0;34m,\u001b[0m\u001b[0mtmp_df\u001b[0m\u001b[0;34m.\u001b[0m\u001b[0mnotna\u001b[0m\u001b[0;34m(\u001b[0m\u001b[0;34m)\u001b[0m\u001b[0;34m.\u001b[0m\u001b[0mall\u001b[0m\u001b[0;34m(\u001b[0m\u001b[0maxis\u001b[0m\u001b[0;34m=\u001b[0m\u001b[0;36m0\u001b[0m\u001b[0;34m)\u001b[0m\u001b[0;34m]\u001b[0m\u001b[0;34m)\u001b[0m\u001b[0;34m.\u001b[0m\u001b[0mall\u001b[0m\u001b[0;34m(\u001b[0m\u001b[0;34m)\u001b[0m \u001b[0;34m==\u001b[0m \u001b[0;32mTrue\u001b[0m\u001b[0;34m:\u001b[0m\u001b[0;34m\u001b[0m\u001b[0;34m\u001b[0m\u001b[0m\n\u001b[0;32m----> 2\u001b[0;31m     \u001b[0mprint\u001b[0m\u001b[0;34m(\u001b[0m\u001b[0mtmp_df\u001b[0m\u001b[0;34m.\u001b[0m\u001b[0mloc\u001b[0m\u001b[0;34m[\u001b[0m\u001b[0;34m'us-gaap_revenuefromcontractwithcustomerexcludingassessedtax'\u001b[0m\u001b[0;34m,\u001b[0m\u001b[0mtmp_df\u001b[0m\u001b[0;34m.\u001b[0m\u001b[0mindex\u001b[0m \u001b[0;34m==\u001b[0m \u001b[0;34m'us-gaap_revenuefromcontractwithcustomerexcludingassessedtax'\u001b[0m \u001b[0;34m]\u001b[0m\u001b[0;34m)\u001b[0m\u001b[0;34m\u001b[0m\u001b[0;34m\u001b[0m\u001b[0m\n\u001b[0m\u001b[1;32m      3\u001b[0m     \u001b[0;31m# tmp_df.loc['us-gaap_salesrevenuenet',tmp_df[tmp_df.index == 'us-gaap_revenuefromcontractwithcustomerexcludingassessedtax'].isna()]\u001b[0m\u001b[0;34m\u001b[0m\u001b[0;34m\u001b[0m\u001b[0;34m\u001b[0m\u001b[0m\n",
      "\u001b[0;32m~/opt/anaconda3/lib/python3.7/site-packages/pandas/core/indexing.py\u001b[0m in \u001b[0;36m__getitem__\u001b[0;34m(self, key)\u001b[0m\n\u001b[1;32m   1759\u001b[0m                 \u001b[0;32mexcept\u001b[0m \u001b[0;34m(\u001b[0m\u001b[0mKeyError\u001b[0m\u001b[0;34m,\u001b[0m \u001b[0mIndexError\u001b[0m\u001b[0;34m,\u001b[0m \u001b[0mAttributeError\u001b[0m\u001b[0;34m)\u001b[0m\u001b[0;34m:\u001b[0m\u001b[0;34m\u001b[0m\u001b[0;34m\u001b[0m\u001b[0m\n\u001b[1;32m   1760\u001b[0m                     \u001b[0;32mpass\u001b[0m\u001b[0;34m\u001b[0m\u001b[0;34m\u001b[0m\u001b[0m\n\u001b[0;32m-> 1761\u001b[0;31m             \u001b[0;32mreturn\u001b[0m \u001b[0mself\u001b[0m\u001b[0;34m.\u001b[0m\u001b[0m_getitem_tuple\u001b[0m\u001b[0;34m(\u001b[0m\u001b[0mkey\u001b[0m\u001b[0;34m)\u001b[0m\u001b[0;34m\u001b[0m\u001b[0;34m\u001b[0m\u001b[0m\n\u001b[0m\u001b[1;32m   1762\u001b[0m         \u001b[0;32melse\u001b[0m\u001b[0;34m:\u001b[0m\u001b[0;34m\u001b[0m\u001b[0;34m\u001b[0m\u001b[0m\n\u001b[1;32m   1763\u001b[0m             \u001b[0;31m# we by definition only have the 0th axis\u001b[0m\u001b[0;34m\u001b[0m\u001b[0;34m\u001b[0m\u001b[0;34m\u001b[0m\u001b[0m\n",
      "\u001b[0;32m~/opt/anaconda3/lib/python3.7/site-packages/pandas/core/indexing.py\u001b[0m in \u001b[0;36m_getitem_tuple\u001b[0;34m(self, tup)\u001b[0m\n\u001b[1;32m   1269\u001b[0m     \u001b[0;32mdef\u001b[0m \u001b[0m_getitem_tuple\u001b[0m\u001b[0;34m(\u001b[0m\u001b[0mself\u001b[0m\u001b[0;34m,\u001b[0m \u001b[0mtup\u001b[0m\u001b[0;34m:\u001b[0m \u001b[0mTuple\u001b[0m\u001b[0;34m)\u001b[0m\u001b[0;34m:\u001b[0m\u001b[0;34m\u001b[0m\u001b[0;34m\u001b[0m\u001b[0m\n\u001b[1;32m   1270\u001b[0m         \u001b[0;32mtry\u001b[0m\u001b[0;34m:\u001b[0m\u001b[0;34m\u001b[0m\u001b[0;34m\u001b[0m\u001b[0m\n\u001b[0;32m-> 1271\u001b[0;31m             \u001b[0;32mreturn\u001b[0m \u001b[0mself\u001b[0m\u001b[0;34m.\u001b[0m\u001b[0m_getitem_lowerdim\u001b[0m\u001b[0;34m(\u001b[0m\u001b[0mtup\u001b[0m\u001b[0;34m)\u001b[0m\u001b[0;34m\u001b[0m\u001b[0;34m\u001b[0m\u001b[0m\n\u001b[0m\u001b[1;32m   1272\u001b[0m         \u001b[0;32mexcept\u001b[0m \u001b[0mIndexingError\u001b[0m\u001b[0;34m:\u001b[0m\u001b[0;34m\u001b[0m\u001b[0;34m\u001b[0m\u001b[0m\n\u001b[1;32m   1273\u001b[0m             \u001b[0;32mpass\u001b[0m\u001b[0;34m\u001b[0m\u001b[0;34m\u001b[0m\u001b[0m\n",
      "\u001b[0;32m~/opt/anaconda3/lib/python3.7/site-packages/pandas/core/indexing.py\u001b[0m in \u001b[0;36m_getitem_lowerdim\u001b[0;34m(self, tup)\u001b[0m\n\u001b[1;32m   1418\u001b[0m                     \u001b[0;32mreturn\u001b[0m \u001b[0msection\u001b[0m\u001b[0;34m\u001b[0m\u001b[0;34m\u001b[0m\u001b[0m\n\u001b[1;32m   1419\u001b[0m                 \u001b[0;31m# This is an elided recursive call to iloc/loc/etc'\u001b[0m\u001b[0;34m\u001b[0m\u001b[0;34m\u001b[0m\u001b[0;34m\u001b[0m\u001b[0m\n\u001b[0;32m-> 1420\u001b[0;31m                 \u001b[0;32mreturn\u001b[0m \u001b[0mgetattr\u001b[0m\u001b[0;34m(\u001b[0m\u001b[0msection\u001b[0m\u001b[0;34m,\u001b[0m \u001b[0mself\u001b[0m\u001b[0;34m.\u001b[0m\u001b[0mname\u001b[0m\u001b[0;34m)\u001b[0m\u001b[0;34m[\u001b[0m\u001b[0mnew_key\u001b[0m\u001b[0;34m]\u001b[0m\u001b[0;34m\u001b[0m\u001b[0;34m\u001b[0m\u001b[0m\n\u001b[0m\u001b[1;32m   1421\u001b[0m \u001b[0;34m\u001b[0m\u001b[0m\n\u001b[1;32m   1422\u001b[0m         \u001b[0;32mraise\u001b[0m \u001b[0mIndexingError\u001b[0m\u001b[0;34m(\u001b[0m\u001b[0;34m\"not applicable\"\u001b[0m\u001b[0;34m)\u001b[0m\u001b[0;34m\u001b[0m\u001b[0;34m\u001b[0m\u001b[0m\n",
      "\u001b[0;32m~/opt/anaconda3/lib/python3.7/site-packages/pandas/core/indexing.py\u001b[0m in \u001b[0;36m__getitem__\u001b[0;34m(self, key)\u001b[0m\n\u001b[1;32m   1765\u001b[0m \u001b[0;34m\u001b[0m\u001b[0m\n\u001b[1;32m   1766\u001b[0m             \u001b[0mmaybe_callable\u001b[0m \u001b[0;34m=\u001b[0m \u001b[0mcom\u001b[0m\u001b[0;34m.\u001b[0m\u001b[0mapply_if_callable\u001b[0m\u001b[0;34m(\u001b[0m\u001b[0mkey\u001b[0m\u001b[0;34m,\u001b[0m \u001b[0mself\u001b[0m\u001b[0;34m.\u001b[0m\u001b[0mobj\u001b[0m\u001b[0;34m)\u001b[0m\u001b[0;34m\u001b[0m\u001b[0;34m\u001b[0m\u001b[0m\n\u001b[0;32m-> 1767\u001b[0;31m             \u001b[0;32mreturn\u001b[0m \u001b[0mself\u001b[0m\u001b[0;34m.\u001b[0m\u001b[0m_getitem_axis\u001b[0m\u001b[0;34m(\u001b[0m\u001b[0mmaybe_callable\u001b[0m\u001b[0;34m,\u001b[0m \u001b[0maxis\u001b[0m\u001b[0;34m=\u001b[0m\u001b[0maxis\u001b[0m\u001b[0;34m)\u001b[0m\u001b[0;34m\u001b[0m\u001b[0;34m\u001b[0m\u001b[0m\n\u001b[0m\u001b[1;32m   1768\u001b[0m \u001b[0;34m\u001b[0m\u001b[0m\n\u001b[1;32m   1769\u001b[0m     \u001b[0;32mdef\u001b[0m \u001b[0m_is_scalar_access\u001b[0m\u001b[0;34m(\u001b[0m\u001b[0mself\u001b[0m\u001b[0;34m,\u001b[0m \u001b[0mkey\u001b[0m\u001b[0;34m:\u001b[0m \u001b[0mTuple\u001b[0m\u001b[0;34m)\u001b[0m\u001b[0;34m:\u001b[0m\u001b[0;34m\u001b[0m\u001b[0;34m\u001b[0m\u001b[0m\n",
      "\u001b[0;32m~/opt/anaconda3/lib/python3.7/site-packages/pandas/core/indexing.py\u001b[0m in \u001b[0;36m_getitem_axis\u001b[0;34m(self, key, axis)\u001b[0m\n\u001b[1;32m   1911\u001b[0m             \u001b[0;32mreturn\u001b[0m \u001b[0mself\u001b[0m\u001b[0;34m.\u001b[0m\u001b[0m_get_slice_axis\u001b[0m\u001b[0;34m(\u001b[0m\u001b[0mkey\u001b[0m\u001b[0;34m,\u001b[0m \u001b[0maxis\u001b[0m\u001b[0;34m=\u001b[0m\u001b[0maxis\u001b[0m\u001b[0;34m)\u001b[0m\u001b[0;34m\u001b[0m\u001b[0;34m\u001b[0m\u001b[0m\n\u001b[1;32m   1912\u001b[0m         \u001b[0;32melif\u001b[0m \u001b[0mcom\u001b[0m\u001b[0;34m.\u001b[0m\u001b[0mis_bool_indexer\u001b[0m\u001b[0;34m(\u001b[0m\u001b[0mkey\u001b[0m\u001b[0;34m)\u001b[0m\u001b[0;34m:\u001b[0m\u001b[0;34m\u001b[0m\u001b[0;34m\u001b[0m\u001b[0m\n\u001b[0;32m-> 1913\u001b[0;31m             \u001b[0;32mreturn\u001b[0m \u001b[0mself\u001b[0m\u001b[0;34m.\u001b[0m\u001b[0m_getbool_axis\u001b[0m\u001b[0;34m(\u001b[0m\u001b[0mkey\u001b[0m\u001b[0;34m,\u001b[0m \u001b[0maxis\u001b[0m\u001b[0;34m=\u001b[0m\u001b[0maxis\u001b[0m\u001b[0;34m)\u001b[0m\u001b[0;34m\u001b[0m\u001b[0;34m\u001b[0m\u001b[0m\n\u001b[0m\u001b[1;32m   1914\u001b[0m         \u001b[0;32melif\u001b[0m \u001b[0mis_list_like_indexer\u001b[0m\u001b[0;34m(\u001b[0m\u001b[0mkey\u001b[0m\u001b[0;34m)\u001b[0m\u001b[0;34m:\u001b[0m\u001b[0;34m\u001b[0m\u001b[0;34m\u001b[0m\u001b[0m\n\u001b[1;32m   1915\u001b[0m \u001b[0;34m\u001b[0m\u001b[0m\n",
      "\u001b[0;32m~/opt/anaconda3/lib/python3.7/site-packages/pandas/core/indexing.py\u001b[0m in \u001b[0;36m_getbool_axis\u001b[0;34m(self, key, axis)\u001b[0m\n\u001b[1;32m   1779\u001b[0m         \u001b[0;31m# caller is responsible for ensuring non-None axis\u001b[0m\u001b[0;34m\u001b[0m\u001b[0;34m\u001b[0m\u001b[0;34m\u001b[0m\u001b[0m\n\u001b[1;32m   1780\u001b[0m         \u001b[0mlabels\u001b[0m \u001b[0;34m=\u001b[0m \u001b[0mself\u001b[0m\u001b[0;34m.\u001b[0m\u001b[0mobj\u001b[0m\u001b[0;34m.\u001b[0m\u001b[0m_get_axis\u001b[0m\u001b[0;34m(\u001b[0m\u001b[0maxis\u001b[0m\u001b[0;34m)\u001b[0m\u001b[0;34m\u001b[0m\u001b[0;34m\u001b[0m\u001b[0m\n\u001b[0;32m-> 1781\u001b[0;31m         \u001b[0mkey\u001b[0m \u001b[0;34m=\u001b[0m \u001b[0mcheck_bool_indexer\u001b[0m\u001b[0;34m(\u001b[0m\u001b[0mlabels\u001b[0m\u001b[0;34m,\u001b[0m \u001b[0mkey\u001b[0m\u001b[0;34m)\u001b[0m\u001b[0;34m\u001b[0m\u001b[0;34m\u001b[0m\u001b[0m\n\u001b[0m\u001b[1;32m   1782\u001b[0m         \u001b[0minds\u001b[0m \u001b[0;34m=\u001b[0m \u001b[0mkey\u001b[0m\u001b[0;34m.\u001b[0m\u001b[0mnonzero\u001b[0m\u001b[0;34m(\u001b[0m\u001b[0;34m)\u001b[0m\u001b[0;34m[\u001b[0m\u001b[0;36m0\u001b[0m\u001b[0;34m]\u001b[0m\u001b[0;34m\u001b[0m\u001b[0;34m\u001b[0m\u001b[0m\n\u001b[1;32m   1783\u001b[0m         \u001b[0;32mreturn\u001b[0m \u001b[0mself\u001b[0m\u001b[0;34m.\u001b[0m\u001b[0mobj\u001b[0m\u001b[0;34m.\u001b[0m\u001b[0m_take_with_is_copy\u001b[0m\u001b[0;34m(\u001b[0m\u001b[0minds\u001b[0m\u001b[0;34m,\u001b[0m \u001b[0maxis\u001b[0m\u001b[0;34m=\u001b[0m\u001b[0maxis\u001b[0m\u001b[0;34m)\u001b[0m\u001b[0;34m\u001b[0m\u001b[0;34m\u001b[0m\u001b[0m\n",
      "\u001b[0;32m~/opt/anaconda3/lib/python3.7/site-packages/pandas/core/indexing.py\u001b[0m in \u001b[0;36mcheck_bool_indexer\u001b[0;34m(index, key)\u001b[0m\n\u001b[1;32m   2323\u001b[0m         \u001b[0;31m# key might be sparse / object-dtype bool, check_array_indexer needs bool array\u001b[0m\u001b[0;34m\u001b[0m\u001b[0;34m\u001b[0m\u001b[0;34m\u001b[0m\u001b[0m\n\u001b[1;32m   2324\u001b[0m         \u001b[0mresult\u001b[0m \u001b[0;34m=\u001b[0m \u001b[0mnp\u001b[0m\u001b[0;34m.\u001b[0m\u001b[0masarray\u001b[0m\u001b[0;34m(\u001b[0m\u001b[0mresult\u001b[0m\u001b[0;34m,\u001b[0m \u001b[0mdtype\u001b[0m\u001b[0;34m=\u001b[0m\u001b[0mbool\u001b[0m\u001b[0;34m)\u001b[0m\u001b[0;34m\u001b[0m\u001b[0;34m\u001b[0m\u001b[0m\n\u001b[0;32m-> 2325\u001b[0;31m         \u001b[0mresult\u001b[0m \u001b[0;34m=\u001b[0m \u001b[0mcheck_array_indexer\u001b[0m\u001b[0;34m(\u001b[0m\u001b[0mindex\u001b[0m\u001b[0;34m,\u001b[0m \u001b[0mresult\u001b[0m\u001b[0;34m)\u001b[0m\u001b[0;34m\u001b[0m\u001b[0;34m\u001b[0m\u001b[0m\n\u001b[0m\u001b[1;32m   2326\u001b[0m \u001b[0;34m\u001b[0m\u001b[0m\n\u001b[1;32m   2327\u001b[0m     \u001b[0;32mreturn\u001b[0m \u001b[0mresult\u001b[0m\u001b[0;34m\u001b[0m\u001b[0;34m\u001b[0m\u001b[0m\n",
      "\u001b[0;32m~/opt/anaconda3/lib/python3.7/site-packages/pandas/core/indexers.py\u001b[0m in \u001b[0;36mcheck_array_indexer\u001b[0;34m(array, indexer)\u001b[0m\n\u001b[1;32m    401\u001b[0m         \u001b[0;32mif\u001b[0m \u001b[0mlen\u001b[0m\u001b[0;34m(\u001b[0m\u001b[0mindexer\u001b[0m\u001b[0;34m)\u001b[0m \u001b[0;34m!=\u001b[0m \u001b[0mlen\u001b[0m\u001b[0;34m(\u001b[0m\u001b[0marray\u001b[0m\u001b[0;34m)\u001b[0m\u001b[0;34m:\u001b[0m\u001b[0;34m\u001b[0m\u001b[0;34m\u001b[0m\u001b[0m\n\u001b[1;32m    402\u001b[0m             raise IndexError(\n\u001b[0;32m--> 403\u001b[0;31m                 \u001b[0;34mf\"Boolean index has wrong length: \"\u001b[0m\u001b[0;34m\u001b[0m\u001b[0;34m\u001b[0m\u001b[0m\n\u001b[0m\u001b[1;32m    404\u001b[0m                 \u001b[0;34mf\"{len(indexer)} instead of {len(array)}\"\u001b[0m\u001b[0;34m\u001b[0m\u001b[0;34m\u001b[0m\u001b[0m\n\u001b[1;32m    405\u001b[0m             )\n",
      "\u001b[0;31mIndexError\u001b[0m: Boolean index has wrong length: 2 instead of 23"
     ]
    }
   ],
   "source": [
    "if (tmp_df.loc['us-gaap_revenuefromcontractwithcustomerexcludingassessedtax',tmp_df.notna().all(axis=0)]==tmp_df.loc['us-gaap_salesrevenuenet',tmp_df.notna().all(axis=0)]).all() == True:\n",
    "    print(tmp_df.loc['us-gaap_revenuefromcontractwithcustomerexcludingassessedtax', ])\n",
    "    # tmp_df.loc['us-gaap_salesrevenuenet',tmp_df[tmp_df.index == 'us-gaap_revenuefromcontractwithcustomerexcludingassessedtax'].isna()]"
   ]
  },
  {
   "cell_type": "code",
   "execution_count": 62,
   "metadata": {},
   "outputs": [
    {
     "output_type": "error",
     "ename": "SyntaxError",
     "evalue": "invalid syntax (<ipython-input-62-28071ed8ac21>, line 1)",
     "traceback": [
      "\u001b[0;36m  File \u001b[0;32m\"<ipython-input-62-28071ed8ac21>\"\u001b[0;36m, line \u001b[0;32m1\u001b[0m\n\u001b[0;31m    tmp_df[tmp_df.index == 'us-gaap_revenuefromcontractwithcustomerexcludingassessedtax'].isna().T]\u001b[0m\n\u001b[0m                                                                                                  ^\u001b[0m\n\u001b[0;31mSyntaxError\u001b[0m\u001b[0;31m:\u001b[0m invalid syntax\n"
     ]
    }
   ],
   "source": [
    "criteria =  \n",
    "tmp_df[tmp_df.index == 'us-gaap_revenuefromcontractwithcustomerexcludingassessedtax'].isna().T]"
   ]
  },
  {
   "cell_type": "code",
   "execution_count": 83,
   "metadata": {},
   "outputs": [],
   "source": [
    "\n",
    "master_df = master_df[sorted(master_df.columns,reverse=True)]"
   ]
  },
  {
   "cell_type": "code",
   "execution_count": 93,
   "metadata": {
    "tags": []
   },
   "outputs": [
    {
     "output_type": "stream",
     "name": "stdout",
     "text": "missing from list1\n{'us-gaap_otheroperatingincomeexpensenet'}\nmissing from list2\n{'us-gaap_othercostandexpenseoperating'}\nus-gaap_otheroperatingincomeexpensenet\n"
    }
   ],
   "source": [
    "i = 1\n",
    "list1 = df_dict[date_list[i-1]].index.to_list()\n",
    "list2 = df_dict[date_list[i]].index.to_list()\n",
    "list1_len = len(list1)\n",
    "interaction_len = len(set(list1).intersection(list2))\n",
    "if list1_len != interaction_len:\n",
    "    list1_missing = set(list1) - set(list2)\n",
    "    if len(list1_missing) > 0:\n",
    "        print('missing from list1')\n",
    "        print(list1_missing)\n",
    "    \n",
    "    list2_missing = set(list2) - set(list1)\n",
    "    if len(list2_missing) > 0:\n",
    "        print('missing from list2')\n",
    "        print(list2_missing)\n",
    "\n",
    "for item in list1_missing:\n",
    "    print(item)\n"
   ]
  },
  {
   "cell_type": "code",
   "execution_count": 84,
   "metadata": {
    "tags": []
   },
   "outputs": [
    {
     "output_type": "stream",
     "name": "stdout",
     "text": "2020-03-31\nmissing from list1\n{'us-gaap_otheroperatingincomeexpensenet'}\nmissing from list2\n{'us-gaap_othercostandexpenseoperating'}\n2019-09-30\n2019-06-30\n2019-03-31\nmissing from list1\n{'us-gaap_otheroperatingincome'}\n2018-09-30\nmissing from list1\n{'us-gaap_revenuefromcontractwithcustomerexcludingassessedtax___us-gaap:ProductMember', 'us-gaap_revenuefromcontractwithcustomerexcludingassessedtax', 'us-gaap_revenuefromcontractwithcustomerexcludingassessedtax___us-gaap:ServiceMember'}\nmissing from list2\n{'us-gaap_salesrevenueservicesnet', 'us-gaap_salesrevenuegoodsnet', 'us-gaap_salesrevenuenet'}\n2018-06-30\nmissing from list1\n{'us-gaap_incomelossfromequitymethodinvestments'}\n2018-03-31\n2017-09-30\n2017-06-30\n2017-03-31\n2016-09-30\n2016-06-30\n2016-03-31\n2015-09-30\n2015-06-30\n2015-03-31\n2014-09-30\n2014-06-30\n2014-03-31\n"
    }
   ],
   "source": [
    "for i in range(1,len(date_list)):\n",
    "    print(date_list[i-1])\n",
    "    list1 = df_dict[date_list[i-1]].index.to_list()\n",
    "    list2 = df_dict[date_list[i]].index.to_list()\n",
    "    list1_len = len(list1)\n",
    "    interaction_len = len(set(list1).intersection(list2))\n",
    "    if list1_len != interaction_len:\n",
    "        list1_missing = set(list1) - set(list2)\n",
    "        if len(list1_missing) > 0:\n",
    "            print('missing from list1')\n",
    "            print(list1_missing)\n",
    "        \n",
    "        list2_missing = set(list2) - set(list1)\n",
    "        if len(list2_missing) > 0:\n",
    "            print('missing from list2')\n",
    "            print(list2_missing)\n",
    "    \n"
   ]
  },
  {
   "cell_type": "code",
   "execution_count": null,
   "metadata": {},
   "outputs": [],
   "source": []
  },
  {
   "cell_type": "code",
   "execution_count": null,
   "metadata": {},
   "outputs": [],
   "source": []
  }
 ],
 "metadata": {
  "language_info": {
   "codemirror_mode": {
    "name": "ipython",
    "version": 3
   },
   "file_extension": ".py",
   "mimetype": "text/x-python",
   "name": "python",
   "nbconvert_exporter": "python",
   "pygments_lexer": "ipython3",
   "version": "3.7.6-final"
  },
  "orig_nbformat": 2,
  "kernelspec": {
   "name": "python3",
   "display_name": "Python 3"
  }
 },
 "nbformat": 4,
 "nbformat_minor": 2
}