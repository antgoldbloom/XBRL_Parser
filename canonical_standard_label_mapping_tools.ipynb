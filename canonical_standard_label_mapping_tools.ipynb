{
 "cells": [
  {
   "cell_type": "code",
   "execution_count": 1084,
   "metadata": {},
   "outputs": [],
   "source": [
    "import pandas as pd\n",
    "import numpy as np\n",
    "\n",
    "import os\n",
    "from pathlib import Path\n",
    "\n",
    "import json\n"
   ]
  },
  {
   "cell_type": "code",
   "execution_count": 1167,
   "metadata": {},
   "outputs": [
    {
     "name": "stdout",
     "output_type": "stream",
     "text": [
      "AGN\n",
      "AMCR\n",
      "UTX\n",
      "Number of unique labels 153\n"
     ]
    }
   ],
   "source": []
  },
  {
   "cell_type": "code",
   "execution_count": 1231,
   "metadata": {},
   "outputs": [],
   "source": [
    "#useful to look at the number of unqiue labels and find tickers with no matches\n",
    "def unique_label_list(statement,m_dict):\n",
    "    gaap_list = []\n",
    "    for ticker in m_dict:\n",
    "        if statement in m_dict[ticker] and m_dict[ticker][statement] is not None:\n",
    "            current_statement = list(m_dict[ticker][statement].keys())\n",
    "            gaap_list = np.concatenate((gaap_list,list(m_dict[ticker][statement].keys())))\n",
    "            #print(f'{ticker}: {len(current_statement)}')\n",
    "        else:\n",
    "            print(ticker)\n",
    "\n",
    "    gaap_list = np.unique(np.array(gaap_list).flatten())\n",
    "    print(f\"Number of unique labels {len(gaap_list)}\")\n",
    "    return gaap_list\n",
    "\n",
    "def gaap_dict_with_tag_as_key(statement, m_dict):\n",
    "    gaap_dict = {}\n",
    "    for ticker in m_dict:\n",
    "\n",
    "        if (statement in m_dict[ticker]) and (m_dict[ticker][statement] is not None):\n",
    "            for tag in m_dict[ticker][statement].keys():\n",
    "                if (tag in m_dict[ticker][statement]) and (m_dict[ticker][statement][tag] is not None):\n",
    "                    if tag not in gaap_dict:\n",
    "                        gaap_dict[tag] = dict()\n",
    "\n",
    "                    for label in m_dict[ticker][statement][tag]:\n",
    "                        if label not in gaap_dict[tag]:\n",
    "                            gaap_dict[tag][label] = 1\n",
    "                        else:\n",
    "                            gaap_dict[tag][label] += 1\n",
    "\n",
    "\n",
    "    return gaap_dict\n",
    "\n",
    "def gaap_dict_with_label_as_key(gaap_dict):\n",
    "    inverted_gaap_dict = {}\n",
    "    for tag in gaap_dict:\n",
    "        for label in gaap_dict[tag]:\n",
    "            if gaap_dict[tag][label] > max(2,label_max):\n",
    "\n",
    "                if label not in inverted_gaap_dict:\n",
    "\n",
    "                    inverted_gaap_dict[label] = {}\n",
    "\n",
    "                inverted_gaap_dict[label][tag] = gaap_dict[tag][label] \n",
    "    return inverted_gaap_dict\n",
    "\n",
    "def formated_gaap_dict(inverted_gaap_dict):\n",
    "    formated_inverted_gaap_dict = {}\n",
    "    for label in inverted_gaap_dict:\n",
    "        formated_inverted_gaap_dict[label] = np.array([])\n",
    "        tag_list = []\n",
    "        to_dict = {}\n",
    "        for tag in inverted_gaap_dict[label]:\n",
    "            matches = inverted_gaap_dict[label][tag]\n",
    "            if matches not in to_dict:\n",
    "                to_dict[matches] = np.array([])\n",
    "            to_dict[matches] = np.append(to_dict[matches],tag)\n",
    "            \n",
    "        for matches in (sorted(to_dict.keys(),reverse=True)):\n",
    "            formated_inverted_gaap_dict[label] = np.append(formated_inverted_gaap_dict[label],to_dict[matches])\n",
    "            formated_inverted_gaap_dict[label] = list(formated_inverted_gaap_dict[label])\n",
    "\n",
    "    return formated_inverted_gaap_dict\n",
    "\n",
    "\n",
    "def create_formated_gaap_dict(data_path):\n",
    "    \n",
    "    mapping_dict = {}\n",
    "    \n",
    "    with open(f\"{data_path}mappings/ticker_tag_label_mapping.json\") as json_file:\n",
    "        m_dict = json.load(json_file)\n",
    "    \n",
    "    print(f\"Number of companies: {len(m_dict.keys())}\")\n",
    "    \n",
    "    for statement in ['Income Statement','Cash Flow','Balance Sheet']:\n",
    "\n",
    "        gaap_dict = gaap_dict_with_tag_as_key(statement, m_dict)\n",
    "        inverted_gaap_dict = gaap_dict_with_label_as_key(gaap_dict)\n",
    "        print(inverted_gaap_dict)\n",
    "        formated_inverted_gaap_dict = formated_gaap_dict(inverted_gaap_dict)\n",
    "        \n",
    "        \n",
    "        with open(f\"{data_path}mappings/placeholder_label_tag_mapping_{statement}.json\",\"w\") as json_file:\n",
    "            json.dump(formated_inverted_gaap_dict,json_file)\n",
    "\n",
    "        \n",
    "        mapping_dict[statement] = formated_inverted_gaap_dict\n",
    "        \n",
    "        print_duplicates(mapping_dict[statement],statement)\n",
    "    \n",
    "    return mapping_dict\n",
    "    \n",
    "def print_duplicates(mapping_dict,statement):\n",
    "    duplicate_dict = {}\n",
    "    for label in mapping_dict:\n",
    "        for tag in mapping_dict[label]:\n",
    "            if tag not in duplicate_dict:\n",
    "                duplicate_dict[tag] = []\n",
    "\n",
    "            duplicate_dict[tag].append(label)\n",
    "        duplicate_dict[tag] = list(np.unique(duplicate_dict[tag]))\n",
    "\n",
    "    for tag in duplicate_dict:\n",
    "        if len(duplicate_dict[tag]) >= 2:\n",
    "            print(f\"{statement} {tag}: {', '.join(duplicate_dict[tag])}\")\n"
   ]
  },
  {
   "cell_type": "code",
   "execution_count": 1232,
   "metadata": {},
   "outputs": [
    {
     "name": "stdout",
     "output_type": "stream",
     "text": [
      "Number of companies: 149\n",
      "{'Revenue': {'us-gaap_revenues': 46, 'us-gaap_revenuefromcontractwithcustomerexcludingassessedtax': 42, 'us-gaap_revenuefromcontractwithcustomerincludingassessedtax': 6}, 'Gross Profit': {'us-gaap_revenues': 3, 'us-gaap_grossprofit': 18}, 'Cost of Revenue': {'us-gaap_costofgoodsandservicessold': 36, 'us-gaap_interestexpense': 5, 'us-gaap_costofrevenue': 13}, 'R&D Expenses': {'us-gaap_researchanddevelopmentexpense': 25, 'us-gaap_researchanddevelopmentexpenseexcludingacquiredinprocesscost': 4, 'us-gaap_explorationexpense': 3, 'us-gaap_researchanddevelopmentexpensesoftwareexcludingacquiredinprocesscost': 3}, 'SG&A Expenses': {'us-gaap_sellinggeneralandadministrativeexpense': 31, 'us-gaap_generalandadministrativeexpense': 5}, 'EBT': {'us-gaap_incomelossfromcontinuingoperationsbeforeincometaxesextraordinaryitemsnoncontrollinginterest': 55, 'us-gaap_incomelossfromcontinuingoperationsbeforeincometaxesminorityinterestandincomelossfromequitymethodinvestments': 34}, 'Operating Income': {'us-gaap_incomelossfromcontinuingoperationsbeforeincometaxesextraordinaryitemsnoncontrollinginterest': 3, 'us-gaap_operatingincomeloss': 34, 'us-gaap_incomelossfromcontinuingoperationsbeforeincometaxesminorityinterestandincomelossfromequitymethodinvestments': 6}, 'Income Tax Provision': {'us-gaap_incometaxexpensebenefit': 96}, 'Income after Tax': {'us-gaap_profitloss': 27, 'us-gaap_netincomeloss': 43, 'us-gaap_incomelossfromcontinuingoperationsincludingportionattributabletononcontrollinginterest': 5}, 'Income from Continuous Operations': {'us-gaap_profitloss': 29, 'us-gaap_netincomeloss': 49, 'us-gaap_incomelossfromcontinuingoperationsincludingportionattributabletononcontrollinginterest': 5, 'us-gaap_incomelossfromcontinuingoperations': 4}, 'Consolidated Net Income/Loss': {'us-gaap_profitloss': 51, 'us-gaap_netincomeloss': 61}, 'Net Income Common': {'us-gaap_profitloss': 3, 'us-gaap_netincomeloss': 81, 'us-gaap_netincomelossavailabletocommonstockholdersbasic': 21}, 'Non-Controlling Interest': {'us-gaap_netincomelossattributabletononcontrollinginterest': 34}, 'EBIT': {'us-gaap_operatingincomeloss': 33}, 'Non-operating Income/Expense': {'us-gaap_nonoperatingincomeexpense': 20}, 'EPS (Basic)': {'us-gaap_earningspersharebasic': 34, 'us-gaap_earningspersharediluted': 3}, 'EPS (Diluted)': {'us-gaap_earningspersharediluted': 37}, 'Non-operating Interest Expenses': {'us-gaap_interestexpense': 60, 'us-gaap_interestanddebtexpense': 7}, 'Interest Expense (Operating)': {'us-gaap_interestexpense': 3}, 'Shares (Diluted, Weighted)': {'us-gaap_weightedaveragenumberofdilutedsharesoutstanding': 16}, 'Shares (Diluted, Average)': {'us-gaap_weightedaveragenumberofdilutedsharesoutstanding': 11}, 'Shares (Basic, Weighted)': {'us-gaap_weightedaveragenumberofsharesoutstandingbasic': 13}, 'EPS (Basic, from Continuous Ops)': {'us-gaap_incomelossfromcontinuingoperationsperbasicshare': 5}, 'EPS (Diluted, from Cont. Ops)': {'us-gaap_incomelossfromcontinuingoperationsperdilutedshare': 5}, 'Dividends (Preferred)': {'us-gaap_preferredstockdividendsincomestatementimpact': 5}, 'Share of Subsidiary Earnings': {'us-gaap_incomelossfromequitymethodinvestments': 8}, 'Income from Discontinued Operations': {'us-gaap_incomelossfromdiscontinuedoperationsnetoftaxattributabletoreportingentity': 3}}\n",
      "Income Statement us-gaap_revenues: Gross Profit, Revenue\n",
      "Income Statement us-gaap_interestexpense: Cost of Revenue, Interest Expense (Operating), Non-operating Interest Expenses\n",
      "Income Statement us-gaap_incomelossfromcontinuingoperationsbeforeincometaxesextraordinaryitemsnoncontrollinginterest: EBT, Operating Income\n",
      "Income Statement us-gaap_incomelossfromcontinuingoperationsbeforeincometaxesminorityinterestandincomelossfromequitymethodinvestments: EBT, Operating Income\n",
      "Income Statement us-gaap_operatingincomeloss: EBIT, Operating Income\n",
      "Income Statement us-gaap_netincomeloss: Income after Tax, Income from Continuous Operations, Consolidated Net Income/Loss, Net Income Common\n",
      "Income Statement us-gaap_profitloss: Consolidated Net Income/Loss, Income after Tax, Income from Continuous Operations, Net Income Common\n",
      "Income Statement us-gaap_incomelossfromcontinuingoperationsincludingportionattributabletononcontrollinginterest: Income after Tax, Income from Continuous Operations\n",
      "Income Statement us-gaap_earningspersharediluted: EPS (Basic), EPS (Diluted)\n",
      "Income Statement us-gaap_weightedaveragenumberofdilutedsharesoutstanding: Shares (Diluted, Average), Shares (Diluted, Weighted)\n",
      "{'Net Income': {'us-gaap_profitloss': 56, 'us-gaap_netincomeloss': 49, 'us-gaap_incomelossfromcontinuingoperationsincludingportionattributabletononcontrollinginterest': 3}, 'Depreciation & Amortization': {'us-gaap_depreciationdepletionandamortization': 28, 'us-gaap_depreciationandamortization': 11, 'us-gaap_depreciationamortizationandaccretionnet': 11}, 'Operating Cash Flow': {'us-gaap_netcashprovidedbyusedinoperatingactivities': 78}, 'Investing cash flow': {'us-gaap_netcashprovidedbyusedininvestingactivities': 90}, 'Financing cash flow': {'us-gaap_netcashprovidedbyusedinfinancingactivities': 90}, 'Exchange Rate Adjustment': {'us-gaap_effectofexchangerateoncashcashequivalentsrestrictedcashandrestrictedcashequivalents': 37, 'us-gaap_effectofexchangerateoncashandcashequivalents': 20, 'us-gaap_effectofexchangerateoncashcashequivalentsrestrictedcashandrestrictedcashequivalentsincludingdisposalgroupanddiscontinuedoperations': 7}, 'Change in Cash': {'us-gaap_cashcashequivalentsrestrictedcashandrestrictedcashequivalentsperiodincreasedecreaseincludingexchangerateeffect': 86, 'us-gaap_cashandcashequivalentsperiodincreasedecrease': 3, 'us-gaap_cashcashequivalentsrestrictedcashandrestrictedcashequivalentsperiodincreasedecreaseexcludingexchangerateeffect': 9}, 'Stock Based Compensation': {'us-gaap_sharebasedcompensation': 67, 'us-gaap_adjustmentstoadditionalpaidincapitalsharebasedcompensationrequisiteserviceperiodrecognitionvalue': 7, 'us-gaap_allocatedsharebasedcompensationexpense': 4}, 'Accounts Payable Change': {'us-gaap_increasedecreaseinaccountspayable': 22, 'us-gaap_increasedecreaseinaccountspayableandaccruedliabilities': 7, 'us-gaap_increasedecreaseinaccountspayabletrade': 4}, 'Income tax paid': {'us-gaap_increasedecreaseinaccruedincometaxespayable': 16, 'us-gaap_increasedecreaseinincometaxes': 3, 'us-gaap_increasedecreaseinaccruedtaxespayable': 3, 'us-gaap_increasedecreaseinincometaxespayablenetofincometaxesreceivable': 5}, 'Change in payables and accrued liability': {'us-gaap_increasedecreaseinaccountspayableandaccruedliabilities': 15, 'us-gaap_increasedecreaseinaccruedliabilities': 5}, 'Other financial activities': {'us-gaap_proceedsfrompaymentsforotherfinancingactivities': 11}, 'Other operating activities': {'us-gaap_otheroperatingactivitiescashflowstatement': 4}, 'Equity Repurchase (Common, Net)': {'us-gaap_proceedsfromissuanceofcommonstock': 3}, 'Issuance/Purchase of Shares': {'us-gaap_proceedsfromissuanceofcommonstock': 3}}\n",
      "Cash Flow us-gaap_increasedecreaseinaccountspayableandaccruedliabilities: Accounts Payable Change, Change in payables and accrued liability\n",
      "Cash Flow us-gaap_proceedsfromissuanceofcommonstock: Equity Repurchase (Common, Net), Issuance/Purchase of Shares\n",
      "{'Receivables': {'us-gaap_accountsreceivablenetcurrent': 52, 'us-gaap_receivablesnetcurrent': 25, 'us-gaap_accountsnotesandloansreceivablenetcurrent': 3, 'us-gaap_premiumsandotherreceivablesnet': 3, 'us-gaap_accountsreceivablenet': 3}, 'Inventory': {'us-gaap_inventorynet': 79}, 'Total current assets': {'us-gaap_assetscurrent': 112}, 'Property, Plant, Equpment (Net)': {'us-gaap_propertyplantandequipmentnet': 121}, 'Long-Term Investments': {'us-gaap_marketablesecuritiesnoncurrent': 3, 'us-gaap_longterminvestments': 19, 'us-gaap_investmentsinaffiliatessubsidiariesassociatesandjointventures': 10, 'us-gaap_equitymethodinvestments': 4}, 'Total Assets': {'us-gaap_assets': 116, 'us-gaap_liabilitiesandstockholdersequity': 120}, 'Shareholders Equity and Liabilities (Total)': {'us-gaap_assets': 116, 'us-gaap_liabilitiesandstockholdersequity': 120}, 'Notes Payable': {'us-gaap_debtcurrent': 8, 'us-gaap_shorttermborrowings': 12, 'us-gaap_notespayablecurrent': 3}, 'Current Part of Debt': {'us-gaap_debtcurrent': 18, 'us-gaap_longtermdebtcurrent': 20, 'us-gaap_shorttermborrowings': 5, 'us-gaap_longtermdebtandcapitalleaseobligationscurrent': 7, 'us-gaap_operatingleaseliabilitycurrent': 4}, 'Accounts Payable': {'us-gaap_accountspayablecurrent': 84, 'us-gaap_accountspayableandaccruedliabilitiescurrent': 21, 'us-gaap_accountspayableandaccruedliabilitiescurrentandnoncurrent': 4, 'us-gaap_deposits': 4}, 'Dividends Payable': {'us-gaap_dividendspayablecurrent': 6}, 'Accrued Expenses': {'us-gaap_otherliabilitiescurrent': 3, 'us-gaap_employeerelatedliabilitiescurrent': 13, 'us-gaap_accruedliabilitiescurrent': 30, 'us-gaap_interestpayablecurrent': 3, 'us-gaap_accruedliabilitiesandotherliabilities': 3}, 'Other current liabilities': {'us-gaap_otherliabilitiescurrent': 18, 'us-gaap_contractwithcustomerliabilitycurrent': 5}, 'Current Part of Taxes to Pay': {'us-gaap_accruedincometaxescurrent': 34, 'us-gaap_taxespayablecurrent': 10}, 'Total current liabilities': {'us-gaap_liabilitiescurrent': 112}, 'Long Term Debt (Total)': {'us-gaap_longtermdebtnoncurrent': 58, 'us-gaap_longtermdebtandcapitalleaseobligations': 20, 'us-gaap_longtermdebt': 9, 'us-gaap_operatingleaseliabilitynoncurrent': 3, 'us-gaap_unsecuredlongtermdebt': 3}, 'Total Debt': {'us-gaap_longtermdebtnoncurrent': 14, 'us-gaap_longtermdebtandcapitalleaseobligations': 3, 'us-gaap_longtermdebt': 6}, 'Long Term Tax Liability (Deferred)': {'us-gaap_deferredincometaxliabilitiesnet': 66, 'us-gaap_deferredtaxandotherliabilitiesnoncurrent': 3, 'us-gaap_deferredincometaxesandotherliabilitiesnoncurrent': 3, 'us-gaap_deferredtaxliabilitiesnoncurrent': 6}, 'Non-current Liabilities (Other)': {'us-gaap_otherliabilitiesnoncurrent': 52}, 'Additional Paid In Capital': {'us-gaap_additionalpaidincapitalcommonstock': 62, 'us-gaap_additionalpaidincapital': 53}, 'Common Stock (Net)': {'us-gaap_commonstockvalue': 107, 'us-gaap_commonstocksincludingadditionalpaidincapital': 10, 'us-gaap_commonstockvalueoutstanding': 5}, 'Retained Earnings': {'us-gaap_retainedearningsaccumulateddeficit': 130}, 'Treasury Stock': {'us-gaap_treasurystockvalue': 82, 'us-gaap_treasurystockcommonvalue': 8}, 'Common Equity (Total)': {'us-gaap_stockholdersequityincludingportionattributabletononcontrollinginterest': 52, 'us-gaap_stockholdersequity': 46}, 'Shareholders Equity (Total)': {'us-gaap_stockholdersequityincludingportionattributabletononcontrollinginterest': 73, 'us-gaap_stockholdersequity': 60}, 'Shareholders Equity (Tangible)': {'us-gaap_stockholdersequityincludingportionattributabletononcontrollinginterest': 9, 'us-gaap_stockholdersequity': 5}, 'Cash and Short Term Investments': {'us-gaap_cashcashequivalentsandshortterminvestments': 4, 'us-gaap_cashandcashequivalentsatcarryingvalue': 41, 'us-gaap_cashcashequivalentsrestrictedcashandrestrictedcashequivalents': 3}, 'Other current assets': {'us-gaap_otherassetscurrent': 38}, 'Current Revenue (Deferred)': {'us-gaap_contractwithcustomerliabilitycurrent': 19, 'us-gaap_deferredrevenuecurrent': 16}, 'Non-current Revenue (Deferred)': {'us-gaap_contractwithcustomerliabilitynoncurrent': 9, 'us-gaap_deferredrevenuenoncurrent': 7}, 'Total liabilities': {'us-gaap_liabilities': 69}, 'Long-term assets (Other)': {'us-gaap_otherassetsnoncurrent': 63, 'us-gaap_otherassets': 8}, 'Preferred Stock (Total)': {'us-gaap_preferredstockvalue': 11}, 'Long Term Assets (Tax, Deferred)': {'us-gaap_deferredincometaxassetsnet': 35, 'us-gaap_deferredpolicyacquisitioncosts': 4, 'us-gaap_deferredtaxassetsnetnoncurrent': 4}, 'Minority Interests': {'us-gaap_redeemablenoncontrollinginterestequitycarryingamount': 5, 'us-gaap_temporaryequitycarryingamountincludingportionattributabletononcontrollinginterests': 3}, 'Goodwill and Intangible Assets (Total)': {'us-gaap_goodwill': 18, 'us-gaap_intangibleassetsnetincludinggoodwill': 3}, 'Shares (Common)': {'us-gaap_commonstocksharesoutstanding': 3}, 'Total non-current liabilities': {'us-gaap_liabilitiesnoncurrent': 11}, 'Pension and Post-Retirement Liabilities': {'us-gaap_pensionandotherpostretirementdefinedbenefitplansliabilitiesnoncurrent': 19}, 'Total non-current assets': {'us-gaap_assetsnoncurrent': 4}}\n",
      "Balance Sheet us-gaap_liabilitiesandstockholdersequity: Total Assets, Shareholders Equity and Liabilities (Total)\n",
      "Balance Sheet us-gaap_assets: Shareholders Equity and Liabilities (Total), Total Assets\n",
      "Balance Sheet us-gaap_shorttermborrowings: Notes Payable, Current Part of Debt\n",
      "Balance Sheet us-gaap_debtcurrent: Notes Payable, Current Part of Debt\n",
      "Balance Sheet us-gaap_otherliabilitiescurrent: Accrued Expenses, Other current liabilities\n",
      "Balance Sheet us-gaap_contractwithcustomerliabilitycurrent: Other current liabilities, Current Revenue (Deferred)\n",
      "Balance Sheet us-gaap_longtermdebtnoncurrent: Long Term Debt (Total), Total Debt\n",
      "Balance Sheet us-gaap_longtermdebtandcapitalleaseobligations: Long Term Debt (Total), Total Debt\n",
      "Balance Sheet us-gaap_longtermdebt: Long Term Debt (Total), Total Debt\n",
      "Balance Sheet us-gaap_stockholdersequityincludingportionattributabletononcontrollinginterest: Common Equity (Total), Shareholders Equity (Total), Shareholders Equity (Tangible)\n",
      "Balance Sheet us-gaap_stockholdersequity: Common Equity (Total), Shareholders Equity (Tangible), Shareholders Equity (Total)\n"
     ]
    }
   ],
   "source": [
    "data_path = '../data/'\n",
    "mapping_dict = create_formated_gaap_dict(data_path)"
   ]
  },
  {
   "cell_type": "code",
   "execution_count": 1230,
   "metadata": {},
   "outputs": [
    {
     "name": "stdout",
     "output_type": "stream",
     "text": [
      "Balance Sheet us-gaap_contractwithcustomerliabilitycurrent: Other current liabilities, Current revenue (deferred)\n"
     ]
    }
   ],
   "source": [
    "with open(f\"{data_path}mappings/canonical_label_tag_mapping.json\") as json_file:\n",
    "    m_dict = json.load(json_file)\n",
    "\n",
    "statement = 'Balance Sheet'\n",
    "print_duplicates(m_dict[statement],statement)"
   ]
  },
  {
   "cell_type": "code",
   "execution_count": null,
   "metadata": {},
   "outputs": [],
   "source": []
  }
 ],
 "metadata": {
  "kernelspec": {
   "display_name": "Python 3",
   "language": "python",
   "name": "python3"
  },
  "language_info": {
   "codemirror_mode": {
    "name": "ipython",
    "version": 3
   },
   "file_extension": ".py",
   "mimetype": "text/x-python",
   "name": "python",
   "nbconvert_exporter": "python",
   "pygments_lexer": "ipython3",
   "version": "3.7.6"
  }
 },
 "nbformat": 4,
 "nbformat_minor": 4
}
